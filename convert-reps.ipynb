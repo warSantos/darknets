{
 "cells": [
  {
   "cell_type": "code",
   "execution_count": 9,
   "metadata": {},
   "outputs": [],
   "source": [
    "import json\n",
    "import numpy as np\n",
    "import pandas as pd\n",
    "from itertools import product"
   ]
  },
  {
   "cell_type": "code",
   "execution_count": 10,
   "metadata": {},
   "outputs": [],
   "source": [
    "DATA_SOURCE = \"darknet\""
   ]
  },
  {
   "cell_type": "code",
   "execution_count": 11,
   "metadata": {},
   "outputs": [],
   "source": [
    "strats = [[\"features\", \"features\"], [\"nlp\", \"idarkvec\"], [\"gnn\", \"igcngru_features\"]]"
   ]
  },
  {
   "cell_type": "code",
   "execution_count": 12,
   "metadata": {},
   "outputs": [],
   "source": [
    "jp = \"data/2022/input/skf/stratification/stratification.json\"\n",
    "with open(jp, 'r') as fd:\n",
    "    splits = json.load(fd)"
   ]
  },
  {
   "cell_type": "code",
   "execution_count": 13,
   "metadata": {},
   "outputs": [
    {
     "data": {
      "text/plain": [
       "(10, 2)"
      ]
     },
     "execution_count": 13,
     "metadata": {},
     "output_type": "execute_result"
    }
   ],
   "source": [
    "len(splits[\"20221021\"][DATA_SOURCE]), len(splits[\"20221021\"][DATA_SOURCE][0])"
   ]
  },
  {
   "cell_type": "code",
   "execution_count": 14,
   "metadata": {},
   "outputs": [
    {
     "data": {
      "text/plain": [
       "['20221021',\n",
       " '20221022',\n",
       " '20221023',\n",
       " '20221024',\n",
       " '20221025',\n",
       " '20221026',\n",
       " '20221027',\n",
       " '20221028',\n",
       " '20221029',\n",
       " '20221030',\n",
       " '20221031']"
      ]
     },
     "execution_count": 14,
     "metadata": {},
     "output_type": "execute_result"
    }
   ],
   "source": [
    "days = list(splits.keys())\n",
    "days.sort()\n",
    "days"
   ]
  },
  {
   "cell_type": "code",
   "execution_count": 15,
   "metadata": {},
   "outputs": [],
   "source": [
    "iters = product(days, strats, np.arange(10))\n",
    "for day, (strat, label), fold in iters:\n",
    "    file_path = f\"data/2022/input/loo/embeddings/{DATA_SOURCE}_{strat}_{day}.csv\"\n",
    "    df = pd.read_csv(file_path)\n",
    "    train_ips = splits[day][DATA_SOURCE][fold][0]\n",
    "    test_ips = splits[day][DATA_SOURCE][fold][1]\n",
    "    train_ips.sort()\n",
    "    test_ips.sort()\n",
    "    df_train = df[df.src_ip.isin(train_ips)]\n",
    "    df_test = df[df.src_ip.isin(test_ips)]\n",
    "    df_train.to_csv(\n",
    "        f\"data/2022/input/reps/out/k3/{DATA_SOURCE}/train/{label}_{day}_fold0{fold}.csv\", index=False\n",
    "    )\n",
    "    df_test.to_csv(\n",
    "        f\"data/2022/input/reps/out/k3/{DATA_SOURCE}/test/{label}_{day}_fold0{fold}.csv\", index=False\n",
    "    )"
   ]
  },
  {
   "cell_type": "code",
   "execution_count": null,
   "metadata": {},
   "outputs": [],
   "source": []
  }
 ],
 "metadata": {
  "kernelspec": {
   "display_name": ".env",
   "language": "python",
   "name": "python3"
  },
  "language_info": {
   "codemirror_mode": {
    "name": "ipython",
    "version": 3
   },
   "file_extension": ".py",
   "mimetype": "text/x-python",
   "name": "python",
   "nbconvert_exporter": "python",
   "pygments_lexer": "ipython3",
   "version": "3.9.16"
  }
 },
 "nbformat": 4,
 "nbformat_minor": 2
}
