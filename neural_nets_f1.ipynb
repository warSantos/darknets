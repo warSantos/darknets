{
 "cells": [
  {
   "cell_type": "code",
   "execution_count": 1,
   "metadata": {},
   "outputs": [],
   "source": [
    "import pickle\n",
    "import numpy as np\n",
    "import pandas as pd\n",
    "from sklearn.metrics import classification_report"
   ]
  },
  {
   "cell_type": "code",
   "execution_count": 2,
   "metadata": {},
   "outputs": [
    {
     "data": {
      "text/plain": [
       "{0: 'censys',\n",
       " 1: 'driftnet',\n",
       " 2: 'internetcensus',\n",
       " 3: 'intrinsec',\n",
       " 4: 'ipip',\n",
       " 5: 'mirai',\n",
       " 6: 'onyphe',\n",
       " 7: 'rapid7',\n",
       " 8: 'securitytrails',\n",
       " 9: 'shadowserver',\n",
       " 10: 'shodan',\n",
       " 11: 'u_mich',\n",
       " 12: 'unk_bruteforcer',\n",
       " 13: 'unk_exploiter',\n",
       " 14: 'unk_spammer',\n",
       " 15: 'unknown'}"
      ]
     },
     "execution_count": 2,
     "metadata": {},
     "output_type": "execute_result"
    }
   ],
   "source": [
    "probs_cols = [\n",
    "        \"censys\",\n",
    "        \"driftnet\",\n",
    "        \"internetcensus\",\n",
    "        \"intrinsec\",\n",
    "        \"ipip\",\n",
    "        \"mirai\",\n",
    "        \"onyphe\",\n",
    "        \"rapid7\",\n",
    "        \"securitytrails\",\n",
    "        \"shadowserver\",\n",
    "        \"shodan\",\n",
    "        \"u_mich\",\n",
    "        \"unk_bruteforcer\",\n",
    "        \"unk_exploiter\",\n",
    "        \"unk_spammer\",\n",
    "        \"unknown\"\n",
    "    ]\n",
    "\n",
    "probs_cols.sort()\n",
    "idx_to_label = { idx: label for idx, label in enumerate(probs_cols) }\n",
    "idx_to_label"
   ]
  },
  {
   "cell_type": "code",
   "execution_count": 3,
   "metadata": {},
   "outputs": [],
   "source": [
    "def convert(y, idx_to_label):\n",
    "    \n",
    "    return [ idx_to_label[idx] for idx in y ]\n",
    "\n",
    "# Function to extract 'precision' values and calculate mean\n",
    "def calculate_mean_f1(row):\n",
    "    f1s = [cell['f1-score'] for cell in row]\n",
    "    return sum(f1s) / len(f1s)"
   ]
  },
  {
   "cell_type": "code",
   "execution_count": 4,
   "metadata": {},
   "outputs": [],
   "source": [
    "CASE = 3"
   ]
  },
  {
   "cell_type": "code",
   "execution_count": 5,
   "metadata": {},
   "outputs": [],
   "source": [
    "with open(f\"data/2022/output/nn/{CASE}/preds.pkl\", \"rb\") as fd:\n",
    "    preds = pickle.load(fd)"
   ]
  },
  {
   "cell_type": "code",
   "execution_count": 6,
   "metadata": {},
   "outputs": [
    {
     "data": {
      "text/plain": [
       "(dict_keys(['20221021', '20221022', '20221023', '20221024', '20221025', '20221026', '20221027', '20221028', '20221029', '20221030', '20221031']),\n",
       " dict_keys([np.int64(0), np.int64(1), np.int64(2), np.int64(3), np.int64(4), np.int64(5), np.int64(6), np.int64(7), np.int64(8), np.int64(9)]),\n",
       " dict_keys(['y_test', 'y_hat']))"
      ]
     },
     "execution_count": 6,
     "metadata": {},
     "output_type": "execute_result"
    }
   ],
   "source": [
    "preds.keys(), preds[\"20221021\"].keys(), preds[\"20221021\"][0].keys()"
   ]
  },
  {
   "cell_type": "code",
   "execution_count": 7,
   "metadata": {},
   "outputs": [],
   "source": [
    "days = list(preds.keys())\n",
    "days.sort()"
   ]
  },
  {
   "cell_type": "code",
   "execution_count": 8,
   "metadata": {},
   "outputs": [],
   "source": [
    "scores = {}\n",
    "for day in days:\n",
    "    dfs = []\n",
    "    for fold in np.arange(10):\n",
    "        y = convert(preds[day][fold][\"y_test\"], idx_to_label)\n",
    "        y_hat = convert(preds[day][fold][\"y_hat\"], idx_to_label)\n",
    "        report = classification_report(y, y_hat, labels=probs_cols, zero_division=0, output_dict=True)\n",
    "        dfs.append(report)\n",
    "    scores[day] = pd.DataFrame(dfs)[probs_cols + [\"macro avg\"]].T.apply(lambda x: calculate_mean_f1(x), axis=1)"
   ]
  },
  {
   "cell_type": "code",
   "execution_count": 9,
   "metadata": {},
   "outputs": [
    {
     "data": {
      "text/plain": [
       "censys             0.934578\n",
       "driftnet           0.958327\n",
       "internetcensus     0.946953\n",
       "intrinsec          0.300000\n",
       "ipip               0.250000\n",
       "mirai              0.989789\n",
       "onyphe             0.912092\n",
       "rapid7             0.000000\n",
       "securitytrails     1.000000\n",
       "shadowserver       0.991406\n",
       "shodan             0.726667\n",
       "u_mich             1.000000\n",
       "unk_bruteforcer    0.971449\n",
       "unk_exploiter      0.905455\n",
       "unk_spammer        0.831693\n",
       "unknown            0.000000\n",
       "macro avg          0.732401\n",
       "dtype: float64"
      ]
     },
     "execution_count": 9,
     "metadata": {},
     "output_type": "execute_result"
    }
   ],
   "source": [
    "scores[\"20221021\"]"
   ]
  },
  {
   "cell_type": "code",
   "execution_count": 10,
   "metadata": {},
   "outputs": [
    {
     "data": {
      "text/plain": [
       "censys             0.93\n",
       "driftnet           0.95\n",
       "internetcensus     0.96\n",
       "intrinsec          0.11\n",
       "ipip               0.18\n",
       "mirai              0.98\n",
       "onyphe             0.66\n",
       "rapid7             0.36\n",
       "securitytrails     0.81\n",
       "shadowserver       0.99\n",
       "shodan             0.68\n",
       "u_mich             0.35\n",
       "unk_bruteforcer    0.95\n",
       "unk_exploiter      0.89\n",
       "unk_spammer        0.82\n",
       "unknown            0.00\n",
       "macro avg          0.66\n",
       "dtype: float64"
      ]
     },
     "execution_count": 10,
     "metadata": {},
     "output_type": "execute_result"
    }
   ],
   "source": [
    "pd.DataFrame(scores).T.mean(axis=0).apply(lambda x: np.trunc(100 * x) / 100)"
   ]
  },
  {
   "cell_type": "code",
   "execution_count": 11,
   "metadata": {},
   "outputs": [
    {
     "data": {
      "text/plain": [
       "{1, 2}"
      ]
     },
     "execution_count": 11,
     "metadata": {},
     "output_type": "execute_result"
    }
   ],
   "source": [
    "set([1,2,3]).intersection(set([1,2,4]))"
   ]
  },
  {
   "cell_type": "code",
   "execution_count": null,
   "metadata": {},
   "outputs": [],
   "source": []
  }
 ],
 "metadata": {
  "kernelspec": {
   "display_name": ".env",
   "language": "python",
   "name": "python3"
  },
  "language_info": {
   "codemirror_mode": {
    "name": "ipython",
    "version": 3
   },
   "file_extension": ".py",
   "mimetype": "text/x-python",
   "name": "python",
   "nbconvert_exporter": "python",
   "pygments_lexer": "ipython3",
   "version": "3.9.16"
  }
 },
 "nbformat": 4,
 "nbformat_minor": 2
}
