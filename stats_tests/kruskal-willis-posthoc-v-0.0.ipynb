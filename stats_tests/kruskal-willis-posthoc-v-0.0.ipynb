{
 "cells": [
  {
   "cell_type": "code",
   "execution_count": 88,
   "metadata": {},
   "outputs": [],
   "source": [
    "import pickle\n",
    "import numpy as np\n",
    "import pandas as pd\n",
    "import scipy.stats as stats\n",
    "import scikit_posthocs as sp\n",
    "from sklearn.metrics import classification_report"
   ]
  },
  {
   "cell_type": "code",
   "execution_count": 294,
   "metadata": {},
   "outputs": [],
   "source": [
    "k_n = 'k7'\n",
    "\n",
    "strategies = [\n",
    "    \"gcn\",\n",
    "    \"igcn\",\n",
    "    \"gcngru\",\n",
    "    \"igcngru\",\n",
    "    \"gcn_features\",\n",
    "    \"igcn_features\",\n",
    "    \"gcngru_features\",\n",
    "    \"igcngru_features\",\n",
    "    \"idarkvec\"\n",
    "]"
   ]
  },
  {
   "cell_type": "code",
   "execution_count": 295,
   "metadata": {},
   "outputs": [],
   "source": [
    "with open(f\"reports/stacking-v-0.2/{k_n}.pkl\", \"rb\") as fd:\n",
    "    stacking_reporte = pickle.load(fd)"
   ]
  },
  {
   "cell_type": "code",
   "execution_count": 296,
   "metadata": {},
   "outputs": [],
   "source": [
    "days = list(stacking_reporte.keys())\n",
    "days.sort()"
   ]
  },
  {
   "cell_type": "code",
   "execution_count": 297,
   "metadata": {},
   "outputs": [],
   "source": [
    "def f1(df: pd.DataFrame):\n",
    "\n",
    "    probs_cols = ['mirai',\n",
    "                  'unk_bruteforcer',\n",
    "                  'unk_spammer',\n",
    "                  'shadowserver',\n",
    "                  'driftnet',\n",
    "                  'internetcensus',\n",
    "                  'censys',\n",
    "                  'rapid7',\n",
    "                  'onyphe',\n",
    "                  'netsystems',\n",
    "                  'shodan',\n",
    "                  'unk_exploiter',\n",
    "                  'securitytrails',\n",
    "                  'intrinsec',\n",
    "                  'unknown']\n",
    "    \n",
    "    # Getting only probabilities.\n",
    "    probs = df[probs_cols].copy(deep=True)\n",
    "    # Getting labels.\n",
    "    labels = df.y_true.copy(deep=True)\n",
    "    # Taking predctions out of probabilities.\n",
    "    preds = probs.idxmax(axis=1)\n",
    "    # Macro by class.\n",
    "    return classification_report(labels, preds, labels=np.unique(labels), output_dict=True, zero_division=0.0)"
   ]
  },
  {
   "cell_type": "code",
   "execution_count": 298,
   "metadata": {},
   "outputs": [],
   "source": [
    "strat_scores = {}\n",
    "for strat in strategies:\n",
    "    strat_scores[strat] = []\n",
    "    for day in days:\n",
    "        for fold in np.arange(10):\n",
    "            df = pd.read_csv(f\"stacking_predictions/out/{k_n}/test/{strat}_{day}_fold0{fold}.csv\")\n",
    "            strat_scores[strat].append(f1(df))\n",
    "            "
   ]
  },
  {
   "cell_type": "code",
   "execution_count": 299,
   "metadata": {},
   "outputs": [
    {
     "data": {
      "text/plain": [
       "dict_keys(['censys', 'driftnet', 'internetcensus', 'intrinsec', 'mirai', 'netsystems', 'onyphe', 'securitytrails', 'shadowserver', 'shodan', 'unk_bruteforcer', 'unk_exploiter', 'unk_spammer', 'micro avg', 'macro avg', 'weighted avg'])"
      ]
     },
     "execution_count": 299,
     "metadata": {},
     "output_type": "execute_result"
    }
   ],
   "source": [
    "strat_scores[\"gcn\"][0].keys()"
   ]
  },
  {
   "cell_type": "code",
   "execution_count": 300,
   "metadata": {},
   "outputs": [],
   "source": [
    "stacking_scores = []\n",
    "for day in days:\n",
    "    for fold in np.arange(10):\n",
    "        labels = stacking_reporte[day][fold]['y']\n",
    "        preds = stacking_reporte[day][fold]['preds']\n",
    "        stacking_scores.append(classification_report(labels, preds, labels=np.unique(labels), output_dict=True, zero_division=0.0))"
   ]
  },
  {
   "cell_type": "code",
   "execution_count": 301,
   "metadata": {},
   "outputs": [
    {
     "data": {
      "text/plain": [
       "dict_keys(['censys', 'driftnet', 'internetcensus', 'intrinsec', 'mirai', 'netsystems', 'onyphe', 'securitytrails', 'shadowserver', 'shodan', 'unk_bruteforcer', 'unk_exploiter', 'unk_spammer', 'micro avg', 'macro avg', 'weighted avg'])"
      ]
     },
     "execution_count": 301,
     "metadata": {},
     "output_type": "execute_result"
    }
   ],
   "source": [
    "stacking_scores[0].keys()"
   ]
  },
  {
   "cell_type": "markdown",
   "metadata": {},
   "source": [
    "# Kruskal-Wallis test & PostHoc Test"
   ]
  },
  {
   "cell_type": "code",
   "execution_count": 302,
   "metadata": {},
   "outputs": [],
   "source": [
    "def kruskal_posthoc(strat_points, alpha, target, strategies):\n",
    "\n",
    "    strat_labels = strategies.copy()\n",
    "    strat_labels.append(\"stacking\")\n",
    "    _, p_value = stats.kruskal(*strat_points)\n",
    "\n",
    "    if p_value < alpha:\n",
    "\n",
    "        # Perform post-hoc tests to identify which models differ from each other\n",
    "        posthoc = sp.posthoc_dunn(strat_points)\n",
    "        \n",
    "        # Based on the post-hoc results, you can identify the best-performing model\n",
    "        best_idx = None\n",
    "        best_model_mean_score = 0\n",
    "        for i, scores in enumerate(strat_points):\n",
    "            mean_score = sum(scores) / len(scores)\n",
    "            if mean_score > best_model_mean_score:\n",
    "                best_idx = i\n",
    "                best_model_mean_score = mean_score\n",
    "        # If the bigger mean model is statistically significant different from the others.\n",
    "        if np.sum(posthoc.values[best_idx] >= alpha) == 1:\n",
    "            best_model = strat_labels[best_idx].upper()\n",
    "            print(f\"{target.upper()}.\\tThe Kruskal-Wallis test is statistically significant, indicating differences among the models. The best-performing model is: {best_model}\")\n",
    "            return posthoc, best_model\n",
    "        return posthoc, \"TIE\"\n",
    "    \n",
    "    else:\n",
    "        #print(\"The Kruskal-Wallis test is not statistically significant, suggesting no significant differences among the models.\")\n",
    "        print(f\"{target.upper()}.\\tThe Kruskal-Wallis test statistically significant, suggesting no significant differences among the models.\")\n",
    "        return None, None\n"
   ]
  },
  {
   "cell_type": "code",
   "execution_count": 303,
   "metadata": {},
   "outputs": [],
   "source": [
    "alpha = 0.05"
   ]
  },
  {
   "cell_type": "code",
   "execution_count": 304,
   "metadata": {},
   "outputs": [],
   "source": [
    "\n",
    "cols = ['mirai',\n",
    "    'unk_bruteforcer',\n",
    "    'unk_spammer',\n",
    "    'shadowserver',\n",
    "    'driftnet',\n",
    "    'internetcensus',\n",
    "    'censys',\n",
    "    'rapid7',\n",
    "    'onyphe',\n",
    "    'netsystems',\n",
    "    'shodan',\n",
    "    'unk_exploiter',\n",
    "    'securitytrails',\n",
    "    'intrinsec',\n",
    "    'macro avg']"
   ]
  },
  {
   "cell_type": "code",
   "execution_count": 305,
   "metadata": {},
   "outputs": [
    {
     "name": "stdout",
     "output_type": "stream",
     "text": [
      "UNK_BRUTEFORCER.\tThe Kruskal-Wallis test is statistically significant, indicating differences among the models. The best-performing model is: STACKING\n",
      "UNK_SPAMMER.\tThe Kruskal-Wallis test is statistically significant, indicating differences among the models. The best-performing model is: STACKING\n",
      "SHADOWSERVER.\tThe Kruskal-Wallis test is statistically significant, indicating differences among the models. The best-performing model is: STACKING\n",
      "DRIFTNET.\tThe Kruskal-Wallis test is statistically significant, indicating differences among the models. The best-performing model is: STACKING\n",
      "INTRINSEC.\tThe Kruskal-Wallis test is statistically significant, indicating differences among the models. The best-performing model is: STACKING\n",
      "MACRO AVG.\tThe Kruskal-Wallis test is statistically significant, indicating differences among the models. The best-performing model is: STACKING\n"
     ]
    }
   ],
   "source": [
    "posthocs, best_model = [], []\n",
    "for label in cols:\n",
    "    strat_points = [ [ point[label][\"f1-score\"] for point in strat_scores[strat] if label in point ]\n",
    "        for strat in strategies ]    \n",
    "    strat_points.append([ point[label][\"f1-score\"] for point in stacking_scores if label in point ])\n",
    "    p, b = kruskal_posthoc(strat_points, alpha, label, strategies)\n",
    "    posthocs.append(p)\n",
    "    best_model.append(b)"
   ]
  },
  {
   "cell_type": "code",
   "execution_count": 306,
   "metadata": {},
   "outputs": [],
   "source": [
    "full_scores = strat_scores.copy()\n",
    "full_scores[\"stacking\"] = stacking_scores.copy()"
   ]
  },
  {
   "cell_type": "code",
   "execution_count": 307,
   "metadata": {},
   "outputs": [],
   "source": [
    "strat_means = {}\n",
    "for strat in full_scores:\n",
    "    strat_means[strat] = []\n",
    "    for label in cols:\n",
    "        m = np.mean(\n",
    "            [ point[label][\"f1-score\"] for point in full_scores[strat] if label in point ]\n",
    "        )\n",
    "        strat_means[strat].append(np.around(m, decimals=4))\n",
    "\n"
   ]
  },
  {
   "cell_type": "code",
   "execution_count": 308,
   "metadata": {},
   "outputs": [],
   "source": [
    "f1_table = pd.DataFrame(strat_means)"
   ]
  },
  {
   "cell_type": "code",
   "execution_count": 309,
   "metadata": {},
   "outputs": [
    {
     "data": {
      "text/html": [
       "<div>\n",
       "<style scoped>\n",
       "    .dataframe tbody tr th:only-of-type {\n",
       "        vertical-align: middle;\n",
       "    }\n",
       "\n",
       "    .dataframe tbody tr th {\n",
       "        vertical-align: top;\n",
       "    }\n",
       "\n",
       "    .dataframe thead th {\n",
       "        text-align: right;\n",
       "    }\n",
       "</style>\n",
       "<table border=\"1\" class=\"dataframe\">\n",
       "  <thead>\n",
       "    <tr style=\"text-align: right;\">\n",
       "      <th></th>\n",
       "      <th>Labels</th>\n",
       "      <th>gcn</th>\n",
       "      <th>igcn</th>\n",
       "      <th>gcngru</th>\n",
       "      <th>igcngru</th>\n",
       "      <th>gcn_features</th>\n",
       "      <th>igcn_features</th>\n",
       "      <th>gcngru_features</th>\n",
       "      <th>igcngru_features</th>\n",
       "      <th>idarkvec</th>\n",
       "      <th>stacking</th>\n",
       "      <th>BestModel</th>\n",
       "    </tr>\n",
       "  </thead>\n",
       "  <tbody>\n",
       "    <tr>\n",
       "      <th>0</th>\n",
       "      <td>mirai</td>\n",
       "      <td>0.6076</td>\n",
       "      <td>0.7575</td>\n",
       "      <td>0.6591</td>\n",
       "      <td>0.7132</td>\n",
       "      <td>0.9775</td>\n",
       "      <td>0.9777</td>\n",
       "      <td>0.8525</td>\n",
       "      <td>0.9785</td>\n",
       "      <td>0.9809</td>\n",
       "      <td>0.9822</td>\n",
       "      <td>TIE</td>\n",
       "    </tr>\n",
       "    <tr>\n",
       "      <th>1</th>\n",
       "      <td>unk_bruteforcer</td>\n",
       "      <td>0.0808</td>\n",
       "      <td>0.5297</td>\n",
       "      <td>0.5321</td>\n",
       "      <td>0.5330</td>\n",
       "      <td>0.5881</td>\n",
       "      <td>0.5800</td>\n",
       "      <td>0.5978</td>\n",
       "      <td>0.6238</td>\n",
       "      <td>0.5903</td>\n",
       "      <td>0.6538</td>\n",
       "      <td>STACKING</td>\n",
       "    </tr>\n",
       "    <tr>\n",
       "      <th>2</th>\n",
       "      <td>unk_spammer</td>\n",
       "      <td>0.1161</td>\n",
       "      <td>0.1863</td>\n",
       "      <td>0.2937</td>\n",
       "      <td>0.1795</td>\n",
       "      <td>0.4164</td>\n",
       "      <td>0.4008</td>\n",
       "      <td>0.3624</td>\n",
       "      <td>0.4219</td>\n",
       "      <td>0.4065</td>\n",
       "      <td>0.5045</td>\n",
       "      <td>STACKING</td>\n",
       "    </tr>\n",
       "    <tr>\n",
       "      <th>3</th>\n",
       "      <td>shadowserver</td>\n",
       "      <td>0.1192</td>\n",
       "      <td>0.4926</td>\n",
       "      <td>0.6224</td>\n",
       "      <td>0.4735</td>\n",
       "      <td>0.8857</td>\n",
       "      <td>0.8845</td>\n",
       "      <td>0.9382</td>\n",
       "      <td>0.9447</td>\n",
       "      <td>0.9551</td>\n",
       "      <td>0.9883</td>\n",
       "      <td>STACKING</td>\n",
       "    </tr>\n",
       "    <tr>\n",
       "      <th>4</th>\n",
       "      <td>driftnet</td>\n",
       "      <td>0.7899</td>\n",
       "      <td>0.7137</td>\n",
       "      <td>0.8590</td>\n",
       "      <td>0.8886</td>\n",
       "      <td>0.8838</td>\n",
       "      <td>0.8591</td>\n",
       "      <td>0.9666</td>\n",
       "      <td>0.9671</td>\n",
       "      <td>0.9681</td>\n",
       "      <td>0.9995</td>\n",
       "      <td>STACKING</td>\n",
       "    </tr>\n",
       "    <tr>\n",
       "      <th>5</th>\n",
       "      <td>internetcensus</td>\n",
       "      <td>0.2380</td>\n",
       "      <td>0.2148</td>\n",
       "      <td>0.6241</td>\n",
       "      <td>0.4001</td>\n",
       "      <td>0.5524</td>\n",
       "      <td>0.4921</td>\n",
       "      <td>0.8857</td>\n",
       "      <td>0.9089</td>\n",
       "      <td>0.9915</td>\n",
       "      <td>0.9982</td>\n",
       "      <td>TIE</td>\n",
       "    </tr>\n",
       "    <tr>\n",
       "      <th>6</th>\n",
       "      <td>censys</td>\n",
       "      <td>0.6395</td>\n",
       "      <td>0.5984</td>\n",
       "      <td>0.6509</td>\n",
       "      <td>0.6843</td>\n",
       "      <td>0.8842</td>\n",
       "      <td>0.8769</td>\n",
       "      <td>0.9123</td>\n",
       "      <td>0.9143</td>\n",
       "      <td>0.9446</td>\n",
       "      <td>0.9351</td>\n",
       "      <td>TIE</td>\n",
       "    </tr>\n",
       "    <tr>\n",
       "      <th>7</th>\n",
       "      <td>rapid7</td>\n",
       "      <td>0.8959</td>\n",
       "      <td>0.7343</td>\n",
       "      <td>0.8955</td>\n",
       "      <td>0.8333</td>\n",
       "      <td>0.8443</td>\n",
       "      <td>0.8312</td>\n",
       "      <td>0.6952</td>\n",
       "      <td>0.9624</td>\n",
       "      <td>1.0000</td>\n",
       "      <td>0.9991</td>\n",
       "      <td>TIE</td>\n",
       "    </tr>\n",
       "    <tr>\n",
       "      <th>8</th>\n",
       "      <td>onyphe</td>\n",
       "      <td>0.0267</td>\n",
       "      <td>0.0104</td>\n",
       "      <td>0.0495</td>\n",
       "      <td>0.0264</td>\n",
       "      <td>0.9110</td>\n",
       "      <td>0.9114</td>\n",
       "      <td>0.9319</td>\n",
       "      <td>0.9186</td>\n",
       "      <td>0.9703</td>\n",
       "      <td>0.9848</td>\n",
       "      <td>TIE</td>\n",
       "    </tr>\n",
       "    <tr>\n",
       "      <th>9</th>\n",
       "      <td>netsystems</td>\n",
       "      <td>0.0000</td>\n",
       "      <td>0.0343</td>\n",
       "      <td>0.1309</td>\n",
       "      <td>0.0180</td>\n",
       "      <td>0.9471</td>\n",
       "      <td>0.9165</td>\n",
       "      <td>0.7668</td>\n",
       "      <td>0.9231</td>\n",
       "      <td>0.4483</td>\n",
       "      <td>0.9673</td>\n",
       "      <td>TIE</td>\n",
       "    </tr>\n",
       "    <tr>\n",
       "      <th>10</th>\n",
       "      <td>shodan</td>\n",
       "      <td>0.0909</td>\n",
       "      <td>0.0845</td>\n",
       "      <td>0.1309</td>\n",
       "      <td>0.0300</td>\n",
       "      <td>0.7656</td>\n",
       "      <td>0.7645</td>\n",
       "      <td>0.7093</td>\n",
       "      <td>0.7473</td>\n",
       "      <td>0.8439</td>\n",
       "      <td>0.8292</td>\n",
       "      <td>TIE</td>\n",
       "    </tr>\n",
       "    <tr>\n",
       "      <th>11</th>\n",
       "      <td>unk_exploiter</td>\n",
       "      <td>0.0591</td>\n",
       "      <td>0.0585</td>\n",
       "      <td>0.0000</td>\n",
       "      <td>0.0328</td>\n",
       "      <td>0.0646</td>\n",
       "      <td>0.0646</td>\n",
       "      <td>0.0000</td>\n",
       "      <td>0.0707</td>\n",
       "      <td>0.0121</td>\n",
       "      <td>0.0551</td>\n",
       "      <td>TIE</td>\n",
       "    </tr>\n",
       "    <tr>\n",
       "      <th>12</th>\n",
       "      <td>securitytrails</td>\n",
       "      <td>0.1017</td>\n",
       "      <td>0.7581</td>\n",
       "      <td>0.8830</td>\n",
       "      <td>0.5502</td>\n",
       "      <td>0.9690</td>\n",
       "      <td>0.9213</td>\n",
       "      <td>0.9454</td>\n",
       "      <td>0.9733</td>\n",
       "      <td>1.0000</td>\n",
       "      <td>1.0000</td>\n",
       "      <td>TIE</td>\n",
       "    </tr>\n",
       "    <tr>\n",
       "      <th>13</th>\n",
       "      <td>intrinsec</td>\n",
       "      <td>0.0000</td>\n",
       "      <td>0.0000</td>\n",
       "      <td>0.0000</td>\n",
       "      <td>0.0000</td>\n",
       "      <td>0.1000</td>\n",
       "      <td>0.0417</td>\n",
       "      <td>0.2500</td>\n",
       "      <td>0.3750</td>\n",
       "      <td>0.4167</td>\n",
       "      <td>0.6750</td>\n",
       "      <td>STACKING</td>\n",
       "    </tr>\n",
       "    <tr>\n",
       "      <th>14</th>\n",
       "      <td>macro avg</td>\n",
       "      <td>0.2584</td>\n",
       "      <td>0.3764</td>\n",
       "      <td>0.4611</td>\n",
       "      <td>0.3886</td>\n",
       "      <td>0.7142</td>\n",
       "      <td>0.6969</td>\n",
       "      <td>0.7176</td>\n",
       "      <td>0.7704</td>\n",
       "      <td>0.7516</td>\n",
       "      <td>0.8188</td>\n",
       "      <td>STACKING</td>\n",
       "    </tr>\n",
       "  </tbody>\n",
       "</table>\n",
       "</div>"
      ],
      "text/plain": [
       "             Labels     gcn    igcn  gcngru  igcngru  gcn_features  \\\n",
       "0             mirai  0.6076  0.7575  0.6591   0.7132        0.9775   \n",
       "1   unk_bruteforcer  0.0808  0.5297  0.5321   0.5330        0.5881   \n",
       "2       unk_spammer  0.1161  0.1863  0.2937   0.1795        0.4164   \n",
       "3      shadowserver  0.1192  0.4926  0.6224   0.4735        0.8857   \n",
       "4          driftnet  0.7899  0.7137  0.8590   0.8886        0.8838   \n",
       "5    internetcensus  0.2380  0.2148  0.6241   0.4001        0.5524   \n",
       "6            censys  0.6395  0.5984  0.6509   0.6843        0.8842   \n",
       "7            rapid7  0.8959  0.7343  0.8955   0.8333        0.8443   \n",
       "8            onyphe  0.0267  0.0104  0.0495   0.0264        0.9110   \n",
       "9        netsystems  0.0000  0.0343  0.1309   0.0180        0.9471   \n",
       "10           shodan  0.0909  0.0845  0.1309   0.0300        0.7656   \n",
       "11    unk_exploiter  0.0591  0.0585  0.0000   0.0328        0.0646   \n",
       "12   securitytrails  0.1017  0.7581  0.8830   0.5502        0.9690   \n",
       "13        intrinsec  0.0000  0.0000  0.0000   0.0000        0.1000   \n",
       "14        macro avg  0.2584  0.3764  0.4611   0.3886        0.7142   \n",
       "\n",
       "    igcn_features  gcngru_features  igcngru_features  idarkvec  stacking  \\\n",
       "0          0.9777           0.8525            0.9785    0.9809    0.9822   \n",
       "1          0.5800           0.5978            0.6238    0.5903    0.6538   \n",
       "2          0.4008           0.3624            0.4219    0.4065    0.5045   \n",
       "3          0.8845           0.9382            0.9447    0.9551    0.9883   \n",
       "4          0.8591           0.9666            0.9671    0.9681    0.9995   \n",
       "5          0.4921           0.8857            0.9089    0.9915    0.9982   \n",
       "6          0.8769           0.9123            0.9143    0.9446    0.9351   \n",
       "7          0.8312           0.6952            0.9624    1.0000    0.9991   \n",
       "8          0.9114           0.9319            0.9186    0.9703    0.9848   \n",
       "9          0.9165           0.7668            0.9231    0.4483    0.9673   \n",
       "10         0.7645           0.7093            0.7473    0.8439    0.8292   \n",
       "11         0.0646           0.0000            0.0707    0.0121    0.0551   \n",
       "12         0.9213           0.9454            0.9733    1.0000    1.0000   \n",
       "13         0.0417           0.2500            0.3750    0.4167    0.6750   \n",
       "14         0.6969           0.7176            0.7704    0.7516    0.8188   \n",
       "\n",
       "   BestModel  \n",
       "0        TIE  \n",
       "1   STACKING  \n",
       "2   STACKING  \n",
       "3   STACKING  \n",
       "4   STACKING  \n",
       "5        TIE  \n",
       "6        TIE  \n",
       "7        TIE  \n",
       "8        TIE  \n",
       "9        TIE  \n",
       "10       TIE  \n",
       "11       TIE  \n",
       "12       TIE  \n",
       "13  STACKING  \n",
       "14  STACKING  "
      ]
     },
     "execution_count": 309,
     "metadata": {},
     "output_type": "execute_result"
    }
   ],
   "source": [
    "f1_table.insert(loc=0, column=\"Labels\", value=cols)\n",
    "f1_table[\"BestModel\"] = best_model\n",
    "f1_table"
   ]
  },
  {
   "cell_type": "code",
   "execution_count": 310,
   "metadata": {},
   "outputs": [
    {
     "data": {
      "text/plain": [
       "array([ 1,  2,  3,  4,  5,  6,  7,  8,  9, 10, 11, 12, 13, 14, 15, 16, 17,\n",
       "       18, 19, 20, 21])"
      ]
     },
     "execution_count": 310,
     "metadata": {},
     "output_type": "execute_result"
    }
   ],
   "source": [
    "values = np.arange(1, 22)\n",
    "values"
   ]
  },
  {
   "cell_type": "code",
   "execution_count": 311,
   "metadata": {},
   "outputs": [
    {
     "data": {
      "text/plain": [
       "array([ 1,  2,  3,  4,  5,  6,  7,  8,  9, 10])"
      ]
     },
     "execution_count": 311,
     "metadata": {},
     "output_type": "execute_result"
    }
   ],
   "source": [
    "g1 = values[:10]\n",
    "g1"
   ]
  },
  {
   "cell_type": "code",
   "execution_count": 312,
   "metadata": {},
   "outputs": [
    {
     "data": {
      "text/plain": [
       "array([11, 12, 13, 14, 15, 16, 17, 18, 19, 20, 21])"
      ]
     },
     "execution_count": 312,
     "metadata": {},
     "output_type": "execute_result"
    }
   ],
   "source": [
    "g2 = values[10:]\n",
    "g2"
   ]
  },
  {
   "cell_type": "code",
   "execution_count": 313,
   "metadata": {},
   "outputs": [
    {
     "data": {
      "text/plain": [
       "10.75"
      ]
     },
     "execution_count": 313,
     "metadata": {},
     "output_type": "execute_result"
    }
   ],
   "source": [
    "(np.mean(g1) + np.mean(g2))/2"
   ]
  },
  {
   "cell_type": "code",
   "execution_count": 314,
   "metadata": {},
   "outputs": [
    {
     "data": {
      "text/plain": [
       "11.0"
      ]
     },
     "execution_count": 314,
     "metadata": {},
     "output_type": "execute_result"
    }
   ],
   "source": [
    "np.mean(values)"
   ]
  },
  {
   "cell_type": "code",
   "execution_count": null,
   "metadata": {},
   "outputs": [],
   "source": []
  }
 ],
 "metadata": {
  "kernelspec": {
   "display_name": ".env",
   "language": "python",
   "name": "python3"
  },
  "language_info": {
   "codemirror_mode": {
    "name": "ipython",
    "version": 3
   },
   "file_extension": ".py",
   "mimetype": "text/x-python",
   "name": "python",
   "nbconvert_exporter": "python",
   "pygments_lexer": "ipython3",
   "version": "3.8.10"
  }
 },
 "nbformat": 4,
 "nbformat_minor": 2
}
