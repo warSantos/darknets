{
 "cells": [
  {
   "cell_type": "code",
   "execution_count": 1,
   "metadata": {},
   "outputs": [],
   "source": [
    "import pickle\n",
    "import numpy as np\n",
    "import pandas as pd\n",
    "import scipy.stats as stats\n",
    "import scikit_posthocs as sp\n",
    "from sklearn.metrics import classification_report"
   ]
  },
  {
   "cell_type": "code",
   "execution_count": 6,
   "metadata": {},
   "outputs": [],
   "source": [
    "k_n = 'k3'\n",
    "\n",
    "stacking_strategies = [\n",
    "   \"gcn_features\",\n",
    "    \"igcn_features\",\n",
    "    \"gcngru_features\",\n",
    "    \"igcngru_features\",\n",
    "    \"idarkvec\"]\n",
    "\n",
    "strategies = [\n",
    "    \"idarkvec\"\n",
    "]\n"
   ]
  },
  {
   "cell_type": "code",
   "execution_count": 7,
   "metadata": {},
   "outputs": [],
   "source": [
    "strats_posfix = '-'.join(sorted(stacking_strategies))"
   ]
  },
  {
   "cell_type": "code",
   "execution_count": 9,
   "metadata": {},
   "outputs": [],
   "source": [
    "with open(f\"reports/stacking-nodes-v-0.0/{strats_posfix}/{k_n}.pkl\", \"rb\") as fd:\n",
    "    stacking_reporte = pickle.load(fd)"
   ]
  },
  {
   "cell_type": "code",
   "execution_count": 10,
   "metadata": {},
   "outputs": [],
   "source": [
    "days = list(stacking_reporte.keys())\n",
    "days.sort()"
   ]
  },
  {
   "cell_type": "code",
   "execution_count": 11,
   "metadata": {},
   "outputs": [],
   "source": [
    "def f1(df: pd.DataFrame):\n",
    "\n",
    "    probs_cols = ['mirai',\n",
    "                  'unk_bruteforcer',\n",
    "                  'unk_spammer',\n",
    "                  'shadowserver',\n",
    "                  'driftnet',\n",
    "                  'internetcensus',\n",
    "                  'censys',\n",
    "                  'rapid7',\n",
    "                  'onyphe',\n",
    "                  'netsystems',\n",
    "                  'shodan',\n",
    "                  'unk_exploiter',\n",
    "                  'securitytrails',\n",
    "                  'intrinsec',\n",
    "                  'unknown']\n",
    "    \n",
    "    # Getting only probabilities.\n",
    "    probs = df[probs_cols].copy(deep=True)\n",
    "    # Getting labels.\n",
    "    labels = df.y_true.copy(deep=True)\n",
    "    # Taking predctions out of probabilities.\n",
    "    preds = probs.idxmax(axis=1)\n",
    "    # Macro by class.\n",
    "    return classification_report(labels, preds, labels=np.unique(labels), output_dict=True, zero_division=0.0)"
   ]
  },
  {
   "cell_type": "code",
   "execution_count": 213,
   "metadata": {},
   "outputs": [],
   "source": [
    "strat_scores = {}\n",
    "for strat in strategies:\n",
    "    strat_scores[strat] = []\n",
    "    for day in days:\n",
    "        for fold in np.arange(10):\n",
    "            df = pd.read_csv(f\"stacking_predictions/out/{k_n}/test/{strat}_{day}_fold0{fold}.csv\")\n",
    "            strat_scores[strat].append(f1(df))\n",
    "            "
   ]
  },
  {
   "cell_type": "code",
   "execution_count": 214,
   "metadata": {},
   "outputs": [],
   "source": [
    "stacking_scores = []\n",
    "for day in days:\n",
    "    for fold in np.arange(10):\n",
    "        labels = stacking_reporte[day][fold]['y']\n",
    "        preds = stacking_reporte[day][fold]['preds']\n",
    "        stacking_scores.append(classification_report(labels, preds, labels=np.unique(labels), output_dict=True, zero_division=0.0))"
   ]
  },
  {
   "cell_type": "code",
   "execution_count": 215,
   "metadata": {},
   "outputs": [
    {
     "data": {
      "text/plain": [
       "dict_keys(['censys', 'driftnet', 'internetcensus', 'intrinsec', 'mirai', 'netsystems', 'onyphe', 'securitytrails', 'shadowserver', 'shodan', 'unk_bruteforcer', 'unk_exploiter', 'unk_spammer', 'accuracy', 'macro avg', 'weighted avg'])"
      ]
     },
     "execution_count": 215,
     "metadata": {},
     "output_type": "execute_result"
    }
   ],
   "source": [
    "stacking_scores[0].keys()"
   ]
  },
  {
   "cell_type": "markdown",
   "metadata": {},
   "source": [
    "# Kruskal-Wallis test & PostHoc Test"
   ]
  },
  {
   "cell_type": "code",
   "execution_count": 216,
   "metadata": {},
   "outputs": [],
   "source": [
    "def kruskal_posthoc(strat_points, alpha, target, strategies):\n",
    "\n",
    "    strat_labels = strategies.copy()\n",
    "    strat_labels.append(\"stacking\")\n",
    "    try:\n",
    "        _, p_value = stats.kruskal(*strat_points)\n",
    "    except Exception as Err:\n",
    "        print(f\"{target.upper()} - {str(Err)}\")\n",
    "        return Err, \"TIE\"\n",
    "\n",
    "    if p_value < alpha:\n",
    "\n",
    "        # Perform post-hoc tests to identify which models differ from each other\n",
    "        posthoc = sp.posthoc_dunn(strat_points)\n",
    "        \n",
    "        # Based on the post-hoc results, you can identify the best-performing model\n",
    "        best_idx = None\n",
    "        best_model_mean_score = 0\n",
    "        for i, scores in enumerate(strat_points):\n",
    "            mean_score = sum(scores) / len(scores)\n",
    "            if mean_score > best_model_mean_score:\n",
    "                best_idx = i\n",
    "                best_model_mean_score = mean_score\n",
    "        # If the bigger mean model is statistically significant different from the others.\n",
    "        if np.sum(posthoc.values[best_idx] >= alpha) == 1:\n",
    "            best_model = strat_labels[best_idx].upper()\n",
    "            print(f\"{target.upper()}.\\tThe Kruskal-Wallis test is statistically significant, indicating differences among the models. The best-performing model is: {best_model}\")\n",
    "            return posthoc, best_model\n",
    "        return posthoc, \"TIE\"\n",
    "    \n",
    "    else:\n",
    "        #print(\"The Kruskal-Wallis test is not statistically significant, suggesting no significant differences among the models.\")\n",
    "        print(f\"{target.upper()}.\\tThe Kruskal-Wallis test statistically significant, suggesting no significant differences among the models.\")\n",
    "        return None, \"TIE\"\n"
   ]
  },
  {
   "cell_type": "code",
   "execution_count": 217,
   "metadata": {},
   "outputs": [],
   "source": [
    "alpha = 0.05"
   ]
  },
  {
   "cell_type": "code",
   "execution_count": 218,
   "metadata": {},
   "outputs": [],
   "source": [
    "\n",
    "cols = ['mirai',\n",
    "    'unk_bruteforcer',\n",
    "    'unk_spammer',\n",
    "    'shadowserver',\n",
    "    'driftnet',\n",
    "    'internetcensus',\n",
    "    'censys',\n",
    "    'rapid7',\n",
    "    'onyphe',\n",
    "    'netsystems',\n",
    "    'shodan',\n",
    "    'unk_exploiter',\n",
    "    'securitytrails',\n",
    "    'intrinsec',\n",
    "    'macro avg']"
   ]
  },
  {
   "cell_type": "code",
   "execution_count": 219,
   "metadata": {},
   "outputs": [
    {
     "name": "stdout",
     "output_type": "stream",
     "text": [
      "MIRAI.\tThe Kruskal-Wallis test is statistically significant, indicating differences among the models. The best-performing model is: STACKING\n",
      "UNK_BRUTEFORCER.\tThe Kruskal-Wallis test is statistically significant, indicating differences among the models. The best-performing model is: STACKING\n",
      "UNK_SPAMMER.\tThe Kruskal-Wallis test is statistically significant, indicating differences among the models. The best-performing model is: STACKING\n",
      "SHADOWSERVER.\tThe Kruskal-Wallis test is statistically significant, indicating differences among the models. The best-performing model is: STACKING\n",
      "DRIFTNET.\tThe Kruskal-Wallis test is statistically significant, indicating differences among the models. The best-performing model is: STACKING\n",
      "INTERNETCENSUS.\tThe Kruskal-Wallis test is statistically significant, indicating differences among the models. The best-performing model is: STACKING\n",
      "CENSYS.\tThe Kruskal-Wallis test is statistically significant, indicating differences among the models. The best-performing model is: STACKING\n",
      "RAPID7.\tThe Kruskal-Wallis test statistically significant, suggesting no significant differences among the models.\n",
      "ONYPHE.\tThe Kruskal-Wallis test is statistically significant, indicating differences among the models. The best-performing model is: STACKING\n",
      "NETSYSTEMS.\tThe Kruskal-Wallis test is statistically significant, indicating differences among the models. The best-performing model is: STACKING\n",
      "SHODAN.\tThe Kruskal-Wallis test statistically significant, suggesting no significant differences among the models.\n",
      "UNK_EXPLOITER.\tThe Kruskal-Wallis test statistically significant, suggesting no significant differences among the models.\n",
      "SECURITYTRAILS - All numbers are identical in kruskal\n",
      "INTRINSEC.\tThe Kruskal-Wallis test is statistically significant, indicating differences among the models. The best-performing model is: STACKING\n",
      "MACRO AVG.\tThe Kruskal-Wallis test is statistically significant, indicating differences among the models. The best-performing model is: STACKING\n"
     ]
    }
   ],
   "source": [
    "posthocs, best_model = [], []\n",
    "for label in cols:\n",
    "    strat_points = [ [ point[label][\"f1-score\"] for point in strat_scores[strat] if label in point ]\n",
    "        for strat in strategies ]    \n",
    "    strat_points.append([ point[label][\"f1-score\"] for point in stacking_scores if label in point ])\n",
    "    p, b = kruskal_posthoc(strat_points, alpha, label, strategies)\n",
    "    posthocs.append(p)\n",
    "    best_model.append(b)"
   ]
  },
  {
   "cell_type": "code",
   "execution_count": 220,
   "metadata": {},
   "outputs": [],
   "source": [
    "full_scores = strat_scores.copy()\n",
    "full_scores[\"stacking\"] = stacking_scores.copy()"
   ]
  },
  {
   "cell_type": "code",
   "execution_count": 221,
   "metadata": {},
   "outputs": [],
   "source": [
    "strat_means = {}\n",
    "for strat in full_scores:\n",
    "    strat_means[strat] = []\n",
    "    for label in cols:\n",
    "        m = np.mean(\n",
    "            [ point[label][\"f1-score\"] for point in full_scores[strat] if label in point ]\n",
    "        )\n",
    "        strat_means[strat].append(np.around(m, decimals=4))\n",
    "\n"
   ]
  },
  {
   "cell_type": "code",
   "execution_count": 222,
   "metadata": {},
   "outputs": [],
   "source": [
    "f1_table = pd.DataFrame(strat_means)"
   ]
  },
  {
   "cell_type": "code",
   "execution_count": 223,
   "metadata": {},
   "outputs": [
    {
     "data": {
      "text/html": [
       "<div>\n",
       "<style scoped>\n",
       "    .dataframe tbody tr th:only-of-type {\n",
       "        vertical-align: middle;\n",
       "    }\n",
       "\n",
       "    .dataframe tbody tr th {\n",
       "        vertical-align: top;\n",
       "    }\n",
       "\n",
       "    .dataframe thead th {\n",
       "        text-align: right;\n",
       "    }\n",
       "</style>\n",
       "<table border=\"1\" class=\"dataframe\">\n",
       "  <thead>\n",
       "    <tr style=\"text-align: right;\">\n",
       "      <th></th>\n",
       "      <th>Labels</th>\n",
       "      <th>idarkvec</th>\n",
       "      <th>stacking</th>\n",
       "      <th>BestModel</th>\n",
       "    </tr>\n",
       "  </thead>\n",
       "  <tbody>\n",
       "    <tr>\n",
       "      <th>0</th>\n",
       "      <td>mirai</td>\n",
       "      <td>0.9802</td>\n",
       "      <td>0.9934</td>\n",
       "      <td>STACKING</td>\n",
       "    </tr>\n",
       "    <tr>\n",
       "      <th>1</th>\n",
       "      <td>unk_bruteforcer</td>\n",
       "      <td>0.6059</td>\n",
       "      <td>0.7598</td>\n",
       "      <td>STACKING</td>\n",
       "    </tr>\n",
       "    <tr>\n",
       "      <th>2</th>\n",
       "      <td>unk_spammer</td>\n",
       "      <td>0.4201</td>\n",
       "      <td>0.7236</td>\n",
       "      <td>STACKING</td>\n",
       "    </tr>\n",
       "    <tr>\n",
       "      <th>3</th>\n",
       "      <td>shadowserver</td>\n",
       "      <td>0.9575</td>\n",
       "      <td>0.9987</td>\n",
       "      <td>STACKING</td>\n",
       "    </tr>\n",
       "    <tr>\n",
       "      <th>4</th>\n",
       "      <td>driftnet</td>\n",
       "      <td>0.9813</td>\n",
       "      <td>0.9987</td>\n",
       "      <td>STACKING</td>\n",
       "    </tr>\n",
       "    <tr>\n",
       "      <th>5</th>\n",
       "      <td>internetcensus</td>\n",
       "      <td>0.9925</td>\n",
       "      <td>0.9987</td>\n",
       "      <td>STACKING</td>\n",
       "    </tr>\n",
       "    <tr>\n",
       "      <th>6</th>\n",
       "      <td>censys</td>\n",
       "      <td>0.9474</td>\n",
       "      <td>0.9887</td>\n",
       "      <td>STACKING</td>\n",
       "    </tr>\n",
       "    <tr>\n",
       "      <th>7</th>\n",
       "      <td>rapid7</td>\n",
       "      <td>0.9996</td>\n",
       "      <td>0.9991</td>\n",
       "      <td>TIE</td>\n",
       "    </tr>\n",
       "    <tr>\n",
       "      <th>8</th>\n",
       "      <td>onyphe</td>\n",
       "      <td>0.9696</td>\n",
       "      <td>0.9961</td>\n",
       "      <td>STACKING</td>\n",
       "    </tr>\n",
       "    <tr>\n",
       "      <th>9</th>\n",
       "      <td>netsystems</td>\n",
       "      <td>0.4558</td>\n",
       "      <td>0.9784</td>\n",
       "      <td>STACKING</td>\n",
       "    </tr>\n",
       "    <tr>\n",
       "      <th>10</th>\n",
       "      <td>shodan</td>\n",
       "      <td>0.8530</td>\n",
       "      <td>0.8541</td>\n",
       "      <td>TIE</td>\n",
       "    </tr>\n",
       "    <tr>\n",
       "      <th>11</th>\n",
       "      <td>unk_exploiter</td>\n",
       "      <td>0.0747</td>\n",
       "      <td>0.0888</td>\n",
       "      <td>TIE</td>\n",
       "    </tr>\n",
       "    <tr>\n",
       "      <th>12</th>\n",
       "      <td>securitytrails</td>\n",
       "      <td>1.0000</td>\n",
       "      <td>1.0000</td>\n",
       "      <td>TIE</td>\n",
       "    </tr>\n",
       "    <tr>\n",
       "      <th>13</th>\n",
       "      <td>intrinsec</td>\n",
       "      <td>0.9250</td>\n",
       "      <td>0.9917</td>\n",
       "      <td>STACKING</td>\n",
       "    </tr>\n",
       "    <tr>\n",
       "      <th>14</th>\n",
       "      <td>macro avg</td>\n",
       "      <td>0.7765</td>\n",
       "      <td>0.8670</td>\n",
       "      <td>STACKING</td>\n",
       "    </tr>\n",
       "  </tbody>\n",
       "</table>\n",
       "</div>"
      ],
      "text/plain": [
       "             Labels  idarkvec  stacking BestModel\n",
       "0             mirai    0.9802    0.9934  STACKING\n",
       "1   unk_bruteforcer    0.6059    0.7598  STACKING\n",
       "2       unk_spammer    0.4201    0.7236  STACKING\n",
       "3      shadowserver    0.9575    0.9987  STACKING\n",
       "4          driftnet    0.9813    0.9987  STACKING\n",
       "5    internetcensus    0.9925    0.9987  STACKING\n",
       "6            censys    0.9474    0.9887  STACKING\n",
       "7            rapid7    0.9996    0.9991       TIE\n",
       "8            onyphe    0.9696    0.9961  STACKING\n",
       "9        netsystems    0.4558    0.9784  STACKING\n",
       "10           shodan    0.8530    0.8541       TIE\n",
       "11    unk_exploiter    0.0747    0.0888       TIE\n",
       "12   securitytrails    1.0000    1.0000       TIE\n",
       "13        intrinsec    0.9250    0.9917  STACKING\n",
       "14        macro avg    0.7765    0.8670  STACKING"
      ]
     },
     "execution_count": 223,
     "metadata": {},
     "output_type": "execute_result"
    }
   ],
   "source": [
    "f1_table.insert(loc=0, column=\"Labels\", value=cols)\n",
    "f1_table[\"BestModel\"] = best_model\n",
    "f1_table"
   ]
  },
  {
   "cell_type": "code",
   "execution_count": 224,
   "metadata": {},
   "outputs": [
    {
     "data": {
      "text/plain": [
       "0     STACKING\n",
       "1     STACKING\n",
       "2     STACKING\n",
       "3     STACKING\n",
       "4     STACKING\n",
       "5     STACKING\n",
       "6     STACKING\n",
       "7          TIE\n",
       "8     STACKING\n",
       "9     STACKING\n",
       "10         TIE\n",
       "11         TIE\n",
       "12         TIE\n",
       "13    STACKING\n",
       "14    STACKING\n",
       "Name: BestModel, dtype: object"
      ]
     },
     "execution_count": 224,
     "metadata": {},
     "output_type": "execute_result"
    }
   ],
   "source": [
    "f1_table.BestModel"
   ]
  },
  {
   "cell_type": "code",
   "execution_count": 225,
   "metadata": {},
   "outputs": [
    {
     "data": {
      "text/plain": [
       "array([ 1,  2,  3,  4,  5,  6,  7,  8,  9, 10, 11, 12, 13, 14, 15, 16, 17,\n",
       "       18, 19, 20, 21])"
      ]
     },
     "execution_count": 225,
     "metadata": {},
     "output_type": "execute_result"
    }
   ],
   "source": [
    "values = np.arange(1, 22)\n",
    "values"
   ]
  },
  {
   "cell_type": "code",
   "execution_count": 226,
   "metadata": {},
   "outputs": [
    {
     "data": {
      "text/plain": [
       "array([ 1,  2,  3,  4,  5,  6,  7,  8,  9, 10])"
      ]
     },
     "execution_count": 226,
     "metadata": {},
     "output_type": "execute_result"
    }
   ],
   "source": [
    "g1 = values[:10]\n",
    "g1"
   ]
  },
  {
   "cell_type": "code",
   "execution_count": 227,
   "metadata": {},
   "outputs": [
    {
     "data": {
      "text/plain": [
       "array([11, 12, 13, 14, 15, 16, 17, 18, 19, 20, 21])"
      ]
     },
     "execution_count": 227,
     "metadata": {},
     "output_type": "execute_result"
    }
   ],
   "source": [
    "g2 = values[10:]\n",
    "g2"
   ]
  },
  {
   "cell_type": "code",
   "execution_count": 228,
   "metadata": {},
   "outputs": [
    {
     "data": {
      "text/plain": [
       "10.75"
      ]
     },
     "execution_count": 228,
     "metadata": {},
     "output_type": "execute_result"
    }
   ],
   "source": [
    "(np.mean(g1) + np.mean(g2))/2"
   ]
  },
  {
   "cell_type": "code",
   "execution_count": 229,
   "metadata": {},
   "outputs": [
    {
     "data": {
      "text/plain": [
       "11.0"
      ]
     },
     "execution_count": 229,
     "metadata": {},
     "output_type": "execute_result"
    }
   ],
   "source": [
    "np.mean(values)"
   ]
  },
  {
   "cell_type": "code",
   "execution_count": null,
   "metadata": {},
   "outputs": [],
   "source": []
  }
 ],
 "metadata": {
  "kernelspec": {
   "display_name": ".env",
   "language": "python",
   "name": "python3"
  },
  "language_info": {
   "codemirror_mode": {
    "name": "ipython",
    "version": 3
   },
   "file_extension": ".py",
   "mimetype": "text/x-python",
   "name": "python",
   "nbconvert_exporter": "python",
   "pygments_lexer": "ipython3",
   "version": "3.8.10"
  }
 },
 "nbformat": 4,
 "nbformat_minor": 2
}
