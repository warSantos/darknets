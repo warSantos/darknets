{
 "cells": [
  {
   "cell_type": "code",
   "execution_count": 3,
   "metadata": {},
   "outputs": [],
   "source": [
    "import json\n",
    "import pandas as pd"
   ]
  },
  {
   "cell_type": "code",
   "execution_count": 5,
   "metadata": {},
   "outputs": [],
   "source": [
    "df = pd.read_csv(\"data/2022/input/skf/predictions_stratified/darknet_features_20221021_fold0.csv\")"
   ]
  },
  {
   "cell_type": "code",
   "execution_count": 6,
   "metadata": {},
   "outputs": [
    {
     "data": {
      "text/html": [
       "<div>\n",
       "<style scoped>\n",
       "    .dataframe tbody tr th:only-of-type {\n",
       "        vertical-align: middle;\n",
       "    }\n",
       "\n",
       "    .dataframe tbody tr th {\n",
       "        vertical-align: top;\n",
       "    }\n",
       "\n",
       "    .dataframe thead th {\n",
       "        text-align: right;\n",
       "    }\n",
       "</style>\n",
       "<table border=\"1\" class=\"dataframe\">\n",
       "  <thead>\n",
       "    <tr style=\"text-align: right;\">\n",
       "      <th></th>\n",
       "      <th>src_ip</th>\n",
       "      <th>censys</th>\n",
       "      <th>driftnet</th>\n",
       "      <th>internetcensus</th>\n",
       "      <th>intrinsec</th>\n",
       "      <th>ipip</th>\n",
       "      <th>mirai</th>\n",
       "      <th>onyphe</th>\n",
       "      <th>rapid7</th>\n",
       "      <th>securitytrails</th>\n",
       "      <th>shadowserver</th>\n",
       "      <th>shodan</th>\n",
       "      <th>u_mich</th>\n",
       "      <th>unk_bruteforcer</th>\n",
       "      <th>unk_exploiter</th>\n",
       "      <th>unk_spammer</th>\n",
       "      <th>unknown</th>\n",
       "      <th>y_true</th>\n",
       "    </tr>\n",
       "  </thead>\n",
       "  <tbody>\n",
       "    <tr>\n",
       "      <th>0</th>\n",
       "      <td>97.74.81.123</td>\n",
       "      <td>0.0</td>\n",
       "      <td>0.0</td>\n",
       "      <td>0.0</td>\n",
       "      <td>0.0</td>\n",
       "      <td>0.0</td>\n",
       "      <td>0.0</td>\n",
       "      <td>0.0</td>\n",
       "      <td>0.0</td>\n",
       "      <td>0.0</td>\n",
       "      <td>0.0</td>\n",
       "      <td>0.0</td>\n",
       "      <td>0.0</td>\n",
       "      <td>0.000000</td>\n",
       "      <td>0.0</td>\n",
       "      <td>0.000000</td>\n",
       "      <td>1.000000</td>\n",
       "      <td>unknown</td>\n",
       "    </tr>\n",
       "    <tr>\n",
       "      <th>1</th>\n",
       "      <td>212.70.149.14</td>\n",
       "      <td>0.0</td>\n",
       "      <td>0.0</td>\n",
       "      <td>0.0</td>\n",
       "      <td>0.0</td>\n",
       "      <td>0.0</td>\n",
       "      <td>0.0</td>\n",
       "      <td>0.0</td>\n",
       "      <td>0.0</td>\n",
       "      <td>0.0</td>\n",
       "      <td>0.0</td>\n",
       "      <td>0.0</td>\n",
       "      <td>0.0</td>\n",
       "      <td>0.000000</td>\n",
       "      <td>0.0</td>\n",
       "      <td>0.000000</td>\n",
       "      <td>1.000000</td>\n",
       "      <td>unknown</td>\n",
       "    </tr>\n",
       "    <tr>\n",
       "      <th>2</th>\n",
       "      <td>171.22.30.185</td>\n",
       "      <td>0.0</td>\n",
       "      <td>0.0</td>\n",
       "      <td>0.0</td>\n",
       "      <td>0.0</td>\n",
       "      <td>0.0</td>\n",
       "      <td>0.0</td>\n",
       "      <td>0.0</td>\n",
       "      <td>0.0</td>\n",
       "      <td>0.0</td>\n",
       "      <td>0.0</td>\n",
       "      <td>0.0</td>\n",
       "      <td>0.0</td>\n",
       "      <td>0.666667</td>\n",
       "      <td>0.0</td>\n",
       "      <td>0.333333</td>\n",
       "      <td>0.000000</td>\n",
       "      <td>unknown</td>\n",
       "    </tr>\n",
       "    <tr>\n",
       "      <th>3</th>\n",
       "      <td>195.3.147.57</td>\n",
       "      <td>0.0</td>\n",
       "      <td>0.0</td>\n",
       "      <td>0.0</td>\n",
       "      <td>0.0</td>\n",
       "      <td>0.0</td>\n",
       "      <td>0.0</td>\n",
       "      <td>0.0</td>\n",
       "      <td>0.0</td>\n",
       "      <td>0.0</td>\n",
       "      <td>0.0</td>\n",
       "      <td>0.0</td>\n",
       "      <td>0.0</td>\n",
       "      <td>0.333333</td>\n",
       "      <td>0.0</td>\n",
       "      <td>0.000000</td>\n",
       "      <td>0.666667</td>\n",
       "      <td>unk_bruteforcer</td>\n",
       "    </tr>\n",
       "    <tr>\n",
       "      <th>4</th>\n",
       "      <td>111.7.96.132</td>\n",
       "      <td>0.0</td>\n",
       "      <td>0.0</td>\n",
       "      <td>0.0</td>\n",
       "      <td>0.0</td>\n",
       "      <td>0.0</td>\n",
       "      <td>0.0</td>\n",
       "      <td>0.0</td>\n",
       "      <td>0.0</td>\n",
       "      <td>0.0</td>\n",
       "      <td>0.0</td>\n",
       "      <td>0.0</td>\n",
       "      <td>0.0</td>\n",
       "      <td>0.000000</td>\n",
       "      <td>0.0</td>\n",
       "      <td>0.000000</td>\n",
       "      <td>1.000000</td>\n",
       "      <td>unknown</td>\n",
       "    </tr>\n",
       "  </tbody>\n",
       "</table>\n",
       "</div>"
      ],
      "text/plain": [
       "          src_ip  censys  driftnet  internetcensus  intrinsec  ipip  mirai  \\\n",
       "0   97.74.81.123     0.0       0.0             0.0        0.0   0.0    0.0   \n",
       "1  212.70.149.14     0.0       0.0             0.0        0.0   0.0    0.0   \n",
       "2  171.22.30.185     0.0       0.0             0.0        0.0   0.0    0.0   \n",
       "3   195.3.147.57     0.0       0.0             0.0        0.0   0.0    0.0   \n",
       "4   111.7.96.132     0.0       0.0             0.0        0.0   0.0    0.0   \n",
       "\n",
       "   onyphe  rapid7  securitytrails  shadowserver  shodan  u_mich  \\\n",
       "0     0.0     0.0             0.0           0.0     0.0     0.0   \n",
       "1     0.0     0.0             0.0           0.0     0.0     0.0   \n",
       "2     0.0     0.0             0.0           0.0     0.0     0.0   \n",
       "3     0.0     0.0             0.0           0.0     0.0     0.0   \n",
       "4     0.0     0.0             0.0           0.0     0.0     0.0   \n",
       "\n",
       "   unk_bruteforcer  unk_exploiter  unk_spammer   unknown           y_true  \n",
       "0         0.000000            0.0     0.000000  1.000000          unknown  \n",
       "1         0.000000            0.0     0.000000  1.000000          unknown  \n",
       "2         0.666667            0.0     0.333333  0.000000          unknown  \n",
       "3         0.333333            0.0     0.000000  0.666667  unk_bruteforcer  \n",
       "4         0.000000            0.0     0.000000  1.000000          unknown  "
      ]
     },
     "execution_count": 6,
     "metadata": {},
     "output_type": "execute_result"
    }
   ],
   "source": [
    "df.head()"
   ]
  },
  {
   "cell_type": "code",
   "execution_count": 7,
   "metadata": {},
   "outputs": [
    {
     "data": {
      "text/plain": [
       "y_true\n",
       "mirai              8041\n",
       "unknown            4096\n",
       "unk_spammer         492\n",
       "shadowserver        289\n",
       "unk_bruteforcer     278\n",
       "driftnet            252\n",
       "internetcensus      226\n",
       "censys              110\n",
       "onyphe               97\n",
       "shodan               26\n",
       "securitytrails       18\n",
       "ipip                 12\n",
       "intrinsec            12\n",
       "unk_exploiter        10\n",
       "u_mich               10\n",
       "Name: count, dtype: int64"
      ]
     },
     "execution_count": 7,
     "metadata": {},
     "output_type": "execute_result"
    }
   ],
   "source": [
    "df.y_true.value_counts()"
   ]
  },
  {
   "cell_type": "code",
   "execution_count": 8,
   "metadata": {},
   "outputs": [],
   "source": [
    "df = pd.read_csv(\"data/2022/input/stacking_predictions/out/k3/train/idarkvec_20221021_fold00.csv\")"
   ]
  },
  {
   "cell_type": "code",
   "execution_count": 9,
   "metadata": {},
   "outputs": [
    {
     "data": {
      "text/plain": [
       "y_true\n",
       "mirai              7237\n",
       "unknown            4096\n",
       "unk_spammer         443\n",
       "shadowserver        260\n",
       "unk_bruteforcer     250\n",
       "driftnet            227\n",
       "internetcensus      203\n",
       "censys               99\n",
       "onyphe               88\n",
       "shodan               23\n",
       "securitytrails       16\n",
       "ipip                 11\n",
       "intrinsec            11\n",
       "unk_exploiter         9\n",
       "u_mich                9\n",
       "Name: count, dtype: int64"
      ]
     },
     "execution_count": 9,
     "metadata": {},
     "output_type": "execute_result"
    }
   ],
   "source": [
    "df.y_true.value_counts()"
   ]
  },
  {
   "cell_type": "code",
   "execution_count": 10,
   "metadata": {},
   "outputs": [],
   "source": [
    "df = pd.read_csv(\n",
    "    \"data/2022/input/stacking_predictions/out/k3/test/idarkvec_20221021_fold00.csv\"\n",
    ")"
   ]
  },
  {
   "cell_type": "code",
   "execution_count": 11,
   "metadata": {},
   "outputs": [
    {
     "data": {
      "text/plain": [
       "y_true\n",
       "mirai              804\n",
       "unk_spammer         49\n",
       "shadowserver        29\n",
       "unk_bruteforcer     28\n",
       "driftnet            25\n",
       "internetcensus      23\n",
       "censys              11\n",
       "onyphe               9\n",
       "shodan               3\n",
       "securitytrails       2\n",
       "ipip                 1\n",
       "intrinsec            1\n",
       "u_mich               1\n",
       "unk_exploiter        1\n",
       "Name: count, dtype: int64"
      ]
     },
     "execution_count": 11,
     "metadata": {},
     "output_type": "execute_result"
    }
   ],
   "source": [
    "df.y_true.value_counts()"
   ]
  },
  {
   "cell_type": "code",
   "execution_count": 4,
   "metadata": {},
   "outputs": [],
   "source": [
    "with open(\"new_data/skf/stratification/stratification.json\", \"r\") as fd:\n",
    "    splits = json.load(fd)"
   ]
  },
  {
   "cell_type": "code",
   "execution_count": 5,
   "metadata": {},
   "outputs": [
    {
     "data": {
      "text/plain": [
       "dict_keys(['20221021', '20221022', '20221023', '20221024', '20221025', '20221026', '20221027', '20221028', '20221029', '20221030', '20221031'])"
      ]
     },
     "execution_count": 5,
     "metadata": {},
     "output_type": "execute_result"
    }
   ],
   "source": [
    "splits.keys()"
   ]
  },
  {
   "cell_type": "code",
   "execution_count": 6,
   "metadata": {},
   "outputs": [
    {
     "data": {
      "text/plain": [
       "['97.74.81.123', '212.70.149.14', '171.22.30.185']"
      ]
     },
     "execution_count": 6,
     "metadata": {},
     "output_type": "execute_result"
    }
   ],
   "source": [
    "splits[\"20221021\"][\"darknet\"][0][0][:3]"
   ]
  },
  {
   "cell_type": "code",
   "execution_count": 7,
   "metadata": {},
   "outputs": [
    {
     "data": {
      "text/plain": [
       "dict_keys(['darknet', 'honeypot'])"
      ]
     },
     "execution_count": 7,
     "metadata": {},
     "output_type": "execute_result"
    }
   ],
   "source": [
    "splits[\"20221021\"].keys()"
   ]
  },
  {
   "cell_type": "code",
   "execution_count": 8,
   "metadata": {},
   "outputs": [
    {
     "data": {
      "text/plain": [
       "['117.187.173.104', '222.185.146.149', '117.196.109.167']"
      ]
     },
     "execution_count": 8,
     "metadata": {},
     "output_type": "execute_result"
    }
   ],
   "source": [
    "splits[\"20221021\"][\"honeypot\"][0][1][:3]"
   ]
  },
  {
   "cell_type": "code",
   "execution_count": 9,
   "metadata": {},
   "outputs": [
    {
     "data": {
      "text/plain": [
       "['censys',\n",
       " 'driftnet',\n",
       " 'internetcensus',\n",
       " 'intrinsec',\n",
       " 'ipip',\n",
       " 'mirai',\n",
       " 'onyphe',\n",
       " 'rapid7',\n",
       " 'securitytrails',\n",
       " 'shadowserver',\n",
       " 'shodan',\n",
       " 'u_mich',\n",
       " 'unk_bruteforcer',\n",
       " 'unk_exploiter',\n",
       " 'unk_spammer',\n",
       " 'unknown']"
      ]
     },
     "execution_count": 9,
     "metadata": {},
     "output_type": "execute_result"
    }
   ],
   "source": [
    "probs_cols = [\n",
    "    \"censys\",\n",
    "    \"driftnet\",\n",
    "    \"internetcensus\",\n",
    "    \"intrinsec\",\n",
    "    \"ipip\",\n",
    "    \"mirai\",\n",
    "    \"onyphe\",\n",
    "    \"rapid7\",\n",
    "    \"securitytrails\",\n",
    "    \"shadowserver\",\n",
    "    \"shodan\",\n",
    "    \"u_mich\",\n",
    "    \"unk_bruteforcer\",\n",
    "    \"unk_exploiter\",\n",
    "    \"unk_spammer\",\n",
    "    \"unknown\",\n",
    "]\n",
    "\n",
    "probs_cols.sort()\n",
    "probs_cols"
   ]
  },
  {
   "cell_type": "code",
   "execution_count": 10,
   "metadata": {},
   "outputs": [],
   "source": [
    "df_train = df[df.src_ip.isin(splits[\"20221021\"][\"darknet\"][0][0])]\n",
    "df_test = df[df.src_ip.isin(splits[\"20221021\"][\"darknet\"][0][1])]"
   ]
  },
  {
   "cell_type": "code",
   "execution_count": 11,
   "metadata": {},
   "outputs": [],
   "source": [
    "def get_X_y(df, probs_col):\n",
    "    X = df[probs_col].copy(deep=True)\n",
    "    y = df.y_true\n",
    "    return X, y"
   ]
  },
  {
   "cell_type": "code",
   "execution_count": 12,
   "metadata": {},
   "outputs": [],
   "source": [
    "X_train, y_train = get_X_y(df_train, probs_cols)\n",
    "X_test, y_test = get_X_y(df_test, probs_cols)"
   ]
  },
  {
   "cell_type": "code",
   "execution_count": 13,
   "metadata": {},
   "outputs": [
    {
     "data": {
      "text/plain": [
       "((12982, 16), (987, 16))"
      ]
     },
     "execution_count": 13,
     "metadata": {},
     "output_type": "execute_result"
    }
   ],
   "source": [
    "X_train.shape, X_test.shape"
   ]
  },
  {
   "cell_type": "code",
   "execution_count": null,
   "metadata": {},
   "outputs": [],
   "source": []
  },
  {
   "cell_type": "code",
   "execution_count": null,
   "metadata": {},
   "outputs": [],
   "source": []
  }
 ],
 "metadata": {
  "kernelspec": {
   "display_name": ".env",
   "language": "python",
   "name": "python3"
  },
  "language_info": {
   "codemirror_mode": {
    "name": "ipython",
    "version": 3
   },
   "file_extension": ".py",
   "mimetype": "text/x-python",
   "name": "python",
   "nbconvert_exporter": "python",
   "pygments_lexer": "ipython3",
   "version": "3.8.10"
  }
 },
 "nbformat": 4,
 "nbformat_minor": 2
}
