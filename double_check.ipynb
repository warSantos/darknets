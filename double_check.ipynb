{
 "cells": [
  {
   "cell_type": "code",
   "execution_count": 1,
   "id": "8bf9f876-b2f9-4b8a-bcc7-1ba5bfddf51d",
   "metadata": {},
   "outputs": [
    {
     "data": {
      "text/plain": [
       "mirai              0.98\n",
       "unk_bruteforcer    0.63\n",
       "unk_spammer        0.47\n",
       "shadowserver       0.96\n",
       "driftnet           0.97\n",
       "internetcensus     0.92\n",
       "censys             0.92\n",
       "rapid7             0.97\n",
       "onyphe             0.91\n",
       "netsystems         0.95\n",
       "shodan             0.79\n",
       "unk_exploiter      0.10\n",
       "securitytrails     0.98\n",
       "intrinsec          0.69\n",
       "macro avg          0.80\n",
       "dtype: float64"
      ]
     },
     "execution_count": 1,
     "metadata": {},
     "output_type": "execute_result"
    }
   ],
   "source": [
    "import pandas as pd\n",
    "from glob import glob\n",
    "from sklearn.metrics import classification_report\n",
    "import numpy as np\n",
    "\n",
    "\n",
    "# Load DataFrames\n",
    "files = glob('out_loo/k3/train/igcngru_features_202112*')\n",
    "dfs = [pd.read_csv(x, index_col=['src_ip']) for x in files]\n",
    "\n",
    "reps=[]\n",
    "# For each DataFrame\n",
    "for df in dfs:\n",
    "    # Drop Unknown samples and y_true column\n",
    "    tmp = df[df.y_true!='unknown'].drop(columns=['y_true'])\n",
    "    # Get the prediction as the label with the maximum prediction probability\n",
    "    tmp = tmp.T.idxmax().reset_index().rename(columns={0:'y_pred'})\n",
    "    # Merge src_ip, y_true, y_pred\n",
    "    tmp = tmp.merge(df[['y_true']].reset_index(), on='src_ip').set_index('src_ip')\n",
    "    # Get the classification report\n",
    "    rep = classification_report(\n",
    "        tmp.y_true, \n",
    "        tmp.y_pred, \n",
    "        labels=np.unique(tmp.y_true),\n",
    "        output_dict=True,\n",
    "        zero_division=0.0\n",
    "    )\n",
    "    # Extract only F1-Score\n",
    "    rep = pd.DataFrame(rep).T[['f1-score']]\n",
    "    # Append the daily report\n",
    "    reps.append(rep)\n",
    "\n",
    "# Concatenate the daily reports and get the mean\n",
    "avg = pd.concat(reps, axis=1).mean(1).round(2).drop(columns=['micro avg', 'weighted avg'])\n",
    "\n",
    "# Correct index\n",
    "avg = avg.reindex([\n",
    "    'mirai', 'unk_bruteforcer', 'unk_spammer', 'shadowserver', 'driftnet', 'internetcensus',\n",
    "    'censys', 'rapid7', 'onyphe', 'netsystems', 'shodan', 'unk_exploiter', 'securitytrails',\n",
    "    'intrinsec', 'macro avg'\n",
    "])\n",
    "\n",
    "avg"
   ]
  },
  {
   "cell_type": "code",
   "execution_count": null,
   "id": "8dc76eb1",
   "metadata": {},
   "outputs": [],
   "source": []
  },
  {
   "cell_type": "code",
   "execution_count": null,
   "id": "2213ffa6",
   "metadata": {},
   "outputs": [],
   "source": []
  }
 ],
 "metadata": {
  "kernelspec": {
   "display_name": "Python 3 (ipykernel)",
   "language": "python",
   "name": "python3"
  },
  "language_info": {
   "codemirror_mode": {
    "name": "ipython",
    "version": 3
   },
   "file_extension": ".py",
   "mimetype": "text/x-python",
   "name": "python",
   "nbconvert_exporter": "python",
   "pygments_lexer": "ipython3",
   "version": "3.8.10"
  }
 },
 "nbformat": 4,
 "nbformat_minor": 5
}
