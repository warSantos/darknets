{
 "cells": [
  {
   "cell_type": "code",
   "execution_count": 118,
   "metadata": {},
   "outputs": [],
   "source": [
    "import pickle\n",
    "import numpy as np\n",
    "from joblib import load\n",
    "from sklearn.metrics import f1_score"
   ]
  },
  {
   "cell_type": "code",
   "execution_count": 119,
   "metadata": {},
   "outputs": [],
   "source": [
    "# Lista com todas as classes.\n",
    "probs_cols = [\n",
    "    'mirai',\n",
    "    'unk_bruteforcer',\n",
    "    'unk_spammer',\n",
    "    'shadowserver',\n",
    "    'driftnet',\n",
    "    'internetcensus',\n",
    "    'censys',\n",
    "    'rapid7',\n",
    "    'onyphe',\n",
    "    'netsystems',\n",
    "    'shodan',\n",
    "    'unk_exploiter',\n",
    "    'securitytrails',\n",
    "    'intrinsec',\n",
    "    'unknown']\n",
    "\n",
    "probs_cols.sort()"
   ]
  },
  {
   "cell_type": "code",
   "execution_count": 120,
   "metadata": {},
   "outputs": [
    {
     "data": {
      "text/plain": [
       "['censys',\n",
       " 'driftnet',\n",
       " 'internetcensus',\n",
       " 'intrinsec',\n",
       " 'mirai',\n",
       " 'netsystems',\n",
       " 'onyphe',\n",
       " 'rapid7',\n",
       " 'securitytrails',\n",
       " 'shadowserver',\n",
       " 'shodan',\n",
       " 'unk_bruteforcer',\n",
       " 'unk_exploiter',\n",
       " 'unk_spammer',\n",
       " 'unknown']"
      ]
     },
     "execution_count": 120,
     "metadata": {},
     "output_type": "execute_result"
    }
   ],
   "source": [
    "probs_cols"
   ]
  },
  {
   "cell_type": "code",
   "execution_count": 121,
   "metadata": {},
   "outputs": [],
   "source": [
    "label_to_idx = { l:idx for idx, l in enumerate(probs_cols) }"
   ]
  },
  {
   "cell_type": "code",
   "execution_count": 122,
   "metadata": {},
   "outputs": [],
   "source": [
    "source_dir = \"stacking_data/vanilla/20211221/idarkvec-igcngru_features\""
   ]
  },
  {
   "cell_type": "code",
   "execution_count": 123,
   "metadata": {},
   "outputs": [],
   "source": [
    "def models_miss(data, label_to_idx, model):\n",
    "\n",
    "    m1 = data[\"X_test\"][: , :15]\n",
    "    m2 = data[\"X_test\"][: , 15:]\n",
    "    st = data[\"probas\"]\n",
    "\n",
    "    pm1 = m1.argmax(axis=1)\n",
    "    pm2 = m2.argmax(axis=1)\n",
    "    \n",
    "    # Ajustando os índices das predições do stacking.\n",
    "    # Com o ajuste podemos indexar a lista de classes completas \n",
    "    # para extrair as predições do stacking.\n",
    "    pst = st.argmax(axis=1)\n",
    "    pst = [ model.classes_[p] for p in pst ]\n",
    "    pst = np.array([ label_to_idx[p] for p in pst ])\n",
    "    \n",
    "    y = np.array([ label_to_idx[l] for l in data[\"y_test\"] ])\n",
    "    \n",
    "    print(\"Macros: (idarkvec, igcngru-features, stacking)\", f1_score(y, pm1, average=\"macro\"), f1_score(y, pm2, average=\"macro\"), f1_score(y, pst, average=\"macro\"))\n",
    "    \n",
    "    c1 = pm1 != y\n",
    "    c2 = pm2 != y\n",
    "    cst = pst == y\n",
    "    return c1 & c2 & cst"
   ]
  },
  {
   "cell_type": "code",
   "execution_count": 124,
   "metadata": {},
   "outputs": [
    {
     "name": "stdout",
     "output_type": "stream",
     "text": [
      "Macros: (idarkvec, igcngru-features, stacking) 0.728209652450947 0.756194851379166 0.9238067030090724\n",
      "Macros: (idarkvec, igcngru-features, stacking) 0.7260275406040763 0.6838488425914896 0.8551559011169542\n",
      "Macros: (idarkvec, igcngru-features, stacking) 0.7288893884133655 0.7779355253449233 0.8813236087236395\n",
      "Macros: (idarkvec, igcngru-features, stacking) 0.7675103786630227 0.7640022929639055 0.8986869232770872\n",
      "Macros: (idarkvec, igcngru-features, stacking) 0.7130406129129352 0.714118645138592 0.8736030659315048\n",
      "Macros: (idarkvec, igcngru-features, stacking) 0.7741809135506144 0.7413304254394527 0.9237228382609142\n",
      "Macros: (idarkvec, igcngru-features, stacking) 0.736892781277134 0.7210164737028057 0.90265486889463\n",
      "Macros: (idarkvec, igcngru-features, stacking) 0.7529453214048705 0.789764017242117 0.8938442988963645\n",
      "Macros: (idarkvec, igcngru-features, stacking) 0.784757997780946 0.7038592792325032 0.8331893169348018\n",
      "Macros: (idarkvec, igcngru-features, stacking) 0.7234680620343931 0.6759785639891115 0.8749028585364645\n"
     ]
    }
   ],
   "source": [
    "hits = {}\n",
    "for fold in np.arange(10):\n",
    "    hits[fold] = {}\n",
    "    data = np.load(f\"{source_dir}/{fold}/data.npz\", allow_pickle=True)\n",
    "    model = load(f\"{source_dir}/{fold}/lr.joblib\")\n",
    "    idxs = models_miss(data, label_to_idx, model)\n",
    "    hits[fold][\"X\"] = data[\"X_test\"][idxs]\n",
    "    hits[fold][\"y\"] = data[\"y_test\"][idxs]\n",
    "    hits[fold][\"idxs\"] = np.arange(data[\"y_test\"].shape[0])[idxs]\n",
    "    hits[fold][\"stacking_probas\"] = data[\"probas\"]\n",
    "     "
   ]
  },
  {
   "cell_type": "markdown",
   "metadata": {},
   "source": [
    "# Teste de sanidade."
   ]
  },
  {
   "cell_type": "code",
   "execution_count": 125,
   "metadata": {},
   "outputs": [
    {
     "data": {
      "text/plain": [
       "array([103, 275, 299, 334, 349, 353, 354, 367, 376, 377, 379, 395, 396,\n",
       "       402])"
      ]
     },
     "execution_count": 125,
     "metadata": {},
     "output_type": "execute_result"
    }
   ],
   "source": [
    "hits[0][\"idxs\"]"
   ]
  },
  {
   "cell_type": "code",
   "execution_count": 126,
   "metadata": {},
   "outputs": [
    {
     "data": {
      "text/plain": [
       "array(['unk_bruteforcer', 'unk_spammer', 'mirai', 'unk_bruteforcer',\n",
       "       'unk_spammer', 'unk_spammer', 'unk_bruteforcer', 'unk_bruteforcer',\n",
       "       'unk_spammer', 'mirai', 'unk_bruteforcer', 'unk_bruteforcer',\n",
       "       'unk_bruteforcer', 'unk_bruteforcer'], dtype=object)"
      ]
     },
     "execution_count": 126,
     "metadata": {},
     "output_type": "execute_result"
    }
   ],
   "source": [
    "hits[0][\"y\"]"
   ]
  },
  {
   "cell_type": "code",
   "execution_count": 164,
   "metadata": {},
   "outputs": [],
   "source": [
    "TEST_IDX = 334\n",
    "LABEL = hits[0][\"y\"][np.where(hits[0][\"idxs\"] == TEST_IDX)[0][0]]"
   ]
  },
  {
   "cell_type": "markdown",
   "metadata": {},
   "source": [
    "### Pegando o primeiro caso (idx 103 - unk_bruteforcer) onde o stacking acertou e os modelos erraram."
   ]
  },
  {
   "cell_type": "code",
   "execution_count": 165,
   "metadata": {},
   "outputs": [
    {
     "data": {
      "text/plain": [
       "(14, 'unknown')"
      ]
     },
     "execution_count": 165,
     "metadata": {},
     "output_type": "execute_result"
    }
   ],
   "source": [
    "pred_model_idarkvec = hits[0][\"X\"][0][:15].argmax(axis=0)\n",
    "pred_model_idarkvec, probs_cols[pred_model_idarkvec]"
   ]
  },
  {
   "cell_type": "code",
   "execution_count": 166,
   "metadata": {},
   "outputs": [
    {
     "data": {
      "text/plain": [
       "(14, 'unknown')"
      ]
     },
     "execution_count": 166,
     "metadata": {},
     "output_type": "execute_result"
    }
   ],
   "source": [
    "pred_model_igcngru = hits[0][\"X\"][0][15:].argmax(axis=0)\n",
    "pred_model_igcngru, probs_cols[pred_model_igcngru]"
   ]
  },
  {
   "cell_type": "markdown",
   "metadata": {},
   "source": [
    "#### Indexando as predições do stacking com o ID 103 sem ajustar o índice"
   ]
  },
  {
   "cell_type": "code",
   "execution_count": 167,
   "metadata": {},
   "outputs": [
    {
     "name": "stdout",
     "output_type": "stream",
     "text": [
      "Predição do stacking sem ajustar o índice para as 15 classes:  10 shodan unk_bruteforcer\n",
      "Pode ver que está errada.\n"
     ]
    }
   ],
   "source": [
    "pred_stacking = hits[0][\"stacking_probas\"][TEST_IDX].argmax()\n",
    "print(\"Predição do stacking sem ajustar o índice para as 15 classes: \", pred_stacking, probs_cols[pred_stacking], LABEL)\n",
    "print(\"Pode ver que está errada.\")\n"
   ]
  },
  {
   "cell_type": "markdown",
   "metadata": {},
   "source": [
    "#### Indexando as predições do stacking com o ID 103 usando as classes que o modelo encontrou durante o treinamento."
   ]
  },
  {
   "cell_type": "code",
   "execution_count": 168,
   "metadata": {},
   "outputs": [
    {
     "name": "stdout",
     "output_type": "stream",
     "text": [
      "Predição do stacking indexando as classes salvas no modelo:  10 unk_bruteforcer unk_bruteforcer\n",
      "Pode ver que está correto.\n"
     ]
    }
   ],
   "source": [
    "pred_stacking_id = hits[0][\"stacking_probas\"][TEST_IDX].argmax()\n",
    "model = load(\"stacking_data/vanilla/20211221/idarkvec-igcngru_features/0/lr.joblib\")\n",
    "pred_stacking = model.classes_.tolist()[pred_stacking_id]\n",
    "print(\"Predição do stacking indexando as classes salvas no modelo: \", pred_stacking_id, pred_stacking, LABEL)\n",
    "print(\"Pode ver que está correto.\")"
   ]
  },
  {
   "cell_type": "markdown",
   "metadata": {},
   "source": [
    "#### Indexando as predições do stacking com o ID 103 convertendo as predições do stacking para os IDs englobando todas as classes."
   ]
  },
  {
   "cell_type": "code",
   "execution_count": 169,
   "metadata": {},
   "outputs": [
    {
     "name": "stdout",
     "output_type": "stream",
     "text": [
      "Predição do stacking convertendo o ID da sua predição para as 15 classes (igual os demais modelos):  11 unk_bruteforcer unk_bruteforcer\n",
      "Pode ver que está correto usando a lista de classes probs_cols - o mesmo para os modelos base do stacking.\n"
     ]
    }
   ],
   "source": [
    "pred_stacking_id = hits[0][\"stacking_probas\"][TEST_IDX].argmax()\n",
    "\n",
    "model = load(\"stacking_data/vanilla/20211221/idarkvec-igcngru_features/0/lr.joblib\")\n",
    "\n",
    "pred_stacking = model.classes_.tolist()[pred_stacking_id]\n",
    "\n",
    "pred_stacking_id_adjusted = label_to_idx[pred_stacking]\n",
    "\n",
    "print(\"Predição do stacking convertendo o ID da sua predição para as 15 classes (igual os demais modelos): \", pred_stacking_id_adjusted, probs_cols[pred_stacking_id_adjusted], LABEL)\n",
    "print(\"Pode ver que está correto usando a lista de classes probs_cols - o mesmo para os modelos base do stacking.\")"
   ]
  },
  {
   "cell_type": "code",
   "execution_count": 170,
   "metadata": {},
   "outputs": [],
   "source": [
    "with open(\"filtered_preds.pkl\", 'wb') as fd:\n",
    "    pickle.dump(hits, fd)"
   ]
  },
  {
   "cell_type": "code",
   "execution_count": null,
   "metadata": {},
   "outputs": [],
   "source": []
  }
 ],
 "metadata": {
  "kernelspec": {
   "display_name": ".env",
   "language": "python",
   "name": "python3"
  },
  "language_info": {
   "codemirror_mode": {
    "name": "ipython",
    "version": 3
   },
   "file_extension": ".py",
   "mimetype": "text/x-python",
   "name": "python",
   "nbconvert_exporter": "python",
   "pygments_lexer": "ipython3",
   "version": "3.8.10"
  }
 },
 "nbformat": 4,
 "nbformat_minor": 2
}
