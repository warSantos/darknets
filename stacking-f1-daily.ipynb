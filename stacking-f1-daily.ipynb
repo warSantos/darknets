{
 "cells": [
  {
   "cell_type": "code",
   "execution_count": 57,
   "metadata": {},
   "outputs": [],
   "source": [
    "import pickle\n",
    "import numpy as np\n",
    "import pandas as pd\n",
    "\n",
    "from sklearn.metrics import classification_report, f1_score"
   ]
  },
  {
   "cell_type": "code",
   "execution_count": 58,
   "metadata": {},
   "outputs": [],
   "source": [
    "with open(\"data/2022/output/honeypot/features-idarkvec-igcngru_features/3/report/k3.pkl\", \"rb\") as fd:\n",
    "    report = pickle.load(fd)"
   ]
  },
  {
   "cell_type": "code",
   "execution_count": 59,
   "metadata": {},
   "outputs": [
    {
     "data": {
      "text/plain": [
       "dict_keys(['20221021', '20221022', '20221023', '20221024', '20221025', '20221026', '20221027', '20221028', '20221029', '20221030', '20221031'])"
      ]
     },
     "execution_count": 59,
     "metadata": {},
     "output_type": "execute_result"
    }
   ],
   "source": [
    "report.keys()"
   ]
  },
  {
   "cell_type": "code",
   "execution_count": 60,
   "metadata": {},
   "outputs": [
    {
     "data": {
      "text/plain": [
       "dict_keys(['y', 'preds'])"
      ]
     },
     "execution_count": 60,
     "metadata": {},
     "output_type": "execute_result"
    }
   ],
   "source": [
    "report[\"20221021\"][0].keys()"
   ]
  },
  {
   "cell_type": "code",
   "execution_count": 61,
   "metadata": {},
   "outputs": [],
   "source": [
    "days_f1 = {}\n",
    "for day in report:\n",
    "    y, preds = [], []\n",
    "    for fold in report[day]:\n",
    "        y.append(report[day][fold]['y'])\n",
    "        preds.append(report[day][fold][\"preds\"])\n",
    "    \n",
    "    y = np.hstack(y)\n",
    "    preds = np.hstack(preds)\n",
    "    days_f1[day] = f1_score(y, preds, labels=np.unique(y), average=\"macro\")#classification_report(y, preds, zero_division=0, labels=np.unique(y), output_dict=True)"
   ]
  },
  {
   "cell_type": "code",
   "execution_count": 62,
   "metadata": {},
   "outputs": [
    {
     "data": {
      "text/plain": [
       "0.9100151693515671"
      ]
     },
     "execution_count": 62,
     "metadata": {},
     "output_type": "execute_result"
    }
   ],
   "source": [
    "np.mean([ days_f1[k] for k in days_f1 ])"
   ]
  },
  {
   "cell_type": "code",
   "execution_count": 63,
   "metadata": {},
   "outputs": [
    {
     "data": {
      "text/plain": [
       "{'20221021': 0.9099782686830159,\n",
       " '20221022': 0.9004399305574307,\n",
       " '20221023': 0.8342968722970043,\n",
       " '20221024': 0.8985920631633411,\n",
       " '20221025': 0.9131140702049242,\n",
       " '20221026': 0.9191092086539804,\n",
       " '20221027': 0.9212459496284858,\n",
       " '20221028': 0.9242912778827237,\n",
       " '20221029': 0.957296940409613,\n",
       " '20221030': 0.9033897218542991,\n",
       " '20221031': 0.9284125595324202}"
      ]
     },
     "execution_count": 63,
     "metadata": {},
     "output_type": "execute_result"
    }
   ],
   "source": [
    "days_f1"
   ]
  },
  {
   "cell_type": "code",
   "execution_count": 64,
   "metadata": {},
   "outputs": [
    {
     "data": {
      "text/plain": [
       "(Series([], dtype: float64),\n",
       " Empty DataFrame\n",
       " Columns: []\n",
       " Index: [])"
      ]
     },
     "execution_count": 64,
     "metadata": {},
     "output_type": "execute_result"
    }
   ],
   "source": [
    "m = df.apply(lambda c: c[\"macro avg\"][\"f1-score\"])\n",
    "m.max(),m"
   ]
  },
  {
   "cell_type": "code",
   "execution_count": null,
   "metadata": {},
   "outputs": [],
   "source": []
  }
 ],
 "metadata": {
  "kernelspec": {
   "display_name": ".env",
   "language": "python",
   "name": "python3"
  },
  "language_info": {
   "codemirror_mode": {
    "name": "ipython",
    "version": 3
   },
   "file_extension": ".py",
   "mimetype": "text/x-python",
   "name": "python",
   "nbconvert_exporter": "python",
   "pygments_lexer": "ipython3",
   "version": "3.8.10"
  }
 },
 "nbformat": 4,
 "nbformat_minor": 2
}
