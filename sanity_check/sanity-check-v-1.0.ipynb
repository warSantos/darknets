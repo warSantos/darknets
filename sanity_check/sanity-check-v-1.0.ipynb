{
 "cells": [
  {
   "cell_type": "markdown",
   "metadata": {},
   "source": [
    "# Computação da F1 com Wilcoxon-test"
   ]
  },
  {
   "cell_type": "code",
   "execution_count": null,
   "metadata": {},
   "outputs": [],
   "source": [
    "import pickle\n",
    "import numpy as np\n",
    "import pandas as pd\n",
    "import scipy.stats as stats\n",
    "from glob import glob\n",
    "from sklearn.metrics import f1_score"
   ]
  },
  {
   "cell_type": "code",
   "execution_count": null,
   "metadata": {},
   "outputs": [],
   "source": [
    "def load_pickle(pickle_path: str):\n",
    "\n",
    "    with open(pickle_path, 'rb') as fd:\n",
    "        return pickle.load(fd)"
   ]
  },
  {
   "cell_type": "code",
   "execution_count": null,
   "metadata": {},
   "outputs": [],
   "source": [
    "strategies = [\n",
    "    \"gcn\",\n",
    "    \"igcn\",\n",
    "    \"gcngru\",\n",
    "    \"igcngru\",\n",
    "    \"gcn_features\",\n",
    "    \"igcn_features\",\n",
    "    \"gcngru_features\",\n",
    "    \"igcngru_features\",\n",
    "    \"idarkvec\"\n",
    "]\n",
    "\n",
    "k_n = 'k3'"
   ]
  },
  {
   "cell_type": "code",
   "execution_count": null,
   "metadata": {},
   "outputs": [],
   "source": [
    "df = pd.read_csv(\"stacking_predictions/out/k3/test/idarkvec_20211224_fold02.csv\")"
   ]
  },
  {
   "cell_type": "code",
   "execution_count": null,
   "metadata": {},
   "outputs": [],
   "source": [
    "df.columns"
   ]
  },
  {
   "cell_type": "code",
   "execution_count": null,
   "metadata": {},
   "outputs": [],
   "source": [
    "def f1(df: pd.DataFrame):\n",
    "\n",
    "    probs_cols = ['mirai',\n",
    "                  'unk_bruteforcer',\n",
    "                  'unk_spammer',\n",
    "                  'shadowserver',\n",
    "                  'driftnet',\n",
    "                  'internetcensus',\n",
    "                  'censys',\n",
    "                  'rapid7',\n",
    "                  'onyphe',\n",
    "                  'netsystems',\n",
    "                  'shodan',\n",
    "                  'unk_exploiter',\n",
    "                  'securitytrails',\n",
    "                  'intrinsec',\n",
    "                  'unknown']\n",
    "\n",
    "\n",
    "    label_to_idx = { l:idx for idx, l in enumerate(probs_cols)  }\n",
    "\n",
    "    # Getting only probabilities.\n",
    "    probs = df.drop(columns=[\"y_true\"])[probs_cols].copy(deep=True)\n",
    "    # Getting labels.\n",
    "    labels = df.y_true.copy(deep=True)\n",
    "    # Building a dictionay of labels (strings) to int (class number).\n",
    "    # Converting labels (string) to int (class number).\n",
    "    y = [ label_to_idx[l] for l in labels ]\n",
    "    # Taking predctions out of probabilities.\n",
    "    preds = probs.values.argmax(axis=1)\n",
    "    # Computing metrics.\n",
    "    macro = f1_score(y, preds, labels=np.arange(len(probs_cols)), average=\"macro\", zero_division=0)\n",
    "    # Macro by class.\n",
    "    macro_by_class = f1_score(y, preds, labels=np.arange(len(probs_cols)), average=None, zero_division=0)\n",
    "    return macro, macro_by_class"
   ]
  },
  {
   "cell_type": "code",
   "execution_count": null,
   "metadata": {},
   "outputs": [],
   "source": [
    "days = sorted([ f.split('/')[-1].split('_')[-2] for f in glob(f\"stacking_predictions/out/{k_n}/test/idarkvec*_fold00.csv\") ])\n",
    "days"
   ]
  },
  {
   "cell_type": "code",
   "execution_count": null,
   "metadata": {},
   "outputs": [],
   "source": [
    "pickle_path = f\"reports/{k_n}.pkl\"\n",
    "stacking = load_pickle(pickle_path)"
   ]
  },
  {
   "cell_type": "code",
   "execution_count": null,
   "metadata": {},
   "outputs": [],
   "source": [
    "stacking['20211221'][0].keys()"
   ]
  },
  {
   "cell_type": "markdown",
   "metadata": {},
   "source": [
    "### Computing Wilcoxon-Test by Day."
   ]
  },
  {
   "cell_type": "code",
   "execution_count": null,
   "metadata": {},
   "outputs": [],
   "source": [
    "cols = ['mirai',\n",
    "    'unk_bruteforcer',\n",
    "    'unk_spammer',\n",
    "    'shadowserver',\n",
    "    'driftnet',\n",
    "    'internetcensus',\n",
    "    'censys',\n",
    "    'rapid7',\n",
    "    'onyphe',\n",
    "    'netsystems',\n",
    "    'shodan',\n",
    "    'unk_exploiter',\n",
    "    'securitytrails',\n",
    "    'intrinsec',\n",
    "    'unknown']\n",
    "\n",
    "label_to_idx = { col:idx for idx, col in enumerate(cols) }"
   ]
  },
  {
   "cell_type": "code",
   "execution_count": 117,
   "metadata": {},
   "outputs": [],
   "source": [
    "target_class = \"shadowserver\"\n",
    "target_strategies = [\"idarkvec\", \"igcngru_features\"]"
   ]
  },
  {
   "cell_type": "code",
   "execution_count": 118,
   "metadata": {},
   "outputs": [
    {
     "name": "stdout",
     "output_type": "stream",
     "text": [
      "***** idarkvec *****\n"
     ]
    },
    {
     "name": "stderr",
     "output_type": "stream",
     "text": [
      "/home/welton/DarkNet/.env/lib/python3.8/site-packages/scipy/stats/_morestats.py:3414: UserWarning: Exact p-value calculation does not work if there are zeros. Switching to normal approximation.\n",
      "  warnings.warn(\"Exact p-value calculation does not work if there are \"\n",
      "/home/welton/DarkNet/.env/lib/python3.8/site-packages/scipy/stats/_morestats.py:3428: UserWarning: Sample size too small for normal approximation.\n",
      "  warnings.warn(\"Sample size too small for normal approximation.\")\n",
      "/home/welton/DarkNet/.env/lib/python3.8/site-packages/scipy/stats/_morestats.py:3414: UserWarning: Exact p-value calculation does not work if there are zeros. Switching to normal approximation.\n",
      "  warnings.warn(\"Exact p-value calculation does not work if there are \"\n",
      "/home/welton/DarkNet/.env/lib/python3.8/site-packages/scipy/stats/_morestats.py:3428: UserWarning: Sample size too small for normal approximation.\n",
      "  warnings.warn(\"Sample size too small for normal approximation.\")\n",
      "/home/welton/DarkNet/.env/lib/python3.8/site-packages/scipy/stats/_morestats.py:3414: UserWarning: Exact p-value calculation does not work if there are zeros. Switching to normal approximation.\n",
      "  warnings.warn(\"Exact p-value calculation does not work if there are \"\n",
      "/home/welton/DarkNet/.env/lib/python3.8/site-packages/scipy/stats/_morestats.py:3428: UserWarning: Sample size too small for normal approximation.\n",
      "  warnings.warn(\"Sample size too small for normal approximation.\")\n",
      "/home/welton/DarkNet/.env/lib/python3.8/site-packages/scipy/stats/_morestats.py:3414: UserWarning: Exact p-value calculation does not work if there are zeros. Switching to normal approximation.\n",
      "  warnings.warn(\"Exact p-value calculation does not work if there are \"\n",
      "/home/welton/DarkNet/.env/lib/python3.8/site-packages/scipy/stats/_morestats.py:3428: UserWarning: Sample size too small for normal approximation.\n",
      "  warnings.warn(\"Sample size too small for normal approximation.\")\n",
      "/home/welton/DarkNet/.env/lib/python3.8/site-packages/scipy/stats/_morestats.py:3414: UserWarning: Exact p-value calculation does not work if there are zeros. Switching to normal approximation.\n",
      "  warnings.warn(\"Exact p-value calculation does not work if there are \"\n",
      "/home/welton/DarkNet/.env/lib/python3.8/site-packages/scipy/stats/_morestats.py:3428: UserWarning: Sample size too small for normal approximation.\n",
      "  warnings.warn(\"Sample size too small for normal approximation.\")\n",
      "/home/welton/DarkNet/.env/lib/python3.8/site-packages/scipy/stats/_morestats.py:3414: UserWarning: Exact p-value calculation does not work if there are zeros. Switching to normal approximation.\n",
      "  warnings.warn(\"Exact p-value calculation does not work if there are \"\n",
      "/home/welton/DarkNet/.env/lib/python3.8/site-packages/scipy/stats/_morestats.py:3428: UserWarning: Sample size too small for normal approximation.\n",
      "  warnings.warn(\"Sample size too small for normal approximation.\")\n",
      "/home/welton/DarkNet/.env/lib/python3.8/site-packages/scipy/stats/_morestats.py:3414: UserWarning: Exact p-value calculation does not work if there are zeros. Switching to normal approximation.\n",
      "  warnings.warn(\"Exact p-value calculation does not work if there are \"\n",
      "/home/welton/DarkNet/.env/lib/python3.8/site-packages/scipy/stats/_morestats.py:3428: UserWarning: Sample size too small for normal approximation.\n",
      "  warnings.warn(\"Sample size too small for normal approximation.\")\n",
      "/home/welton/DarkNet/.env/lib/python3.8/site-packages/scipy/stats/_morestats.py:3414: UserWarning: Exact p-value calculation does not work if there are zeros. Switching to normal approximation.\n",
      "  warnings.warn(\"Exact p-value calculation does not work if there are \"\n",
      "/home/welton/DarkNet/.env/lib/python3.8/site-packages/scipy/stats/_morestats.py:3428: UserWarning: Sample size too small for normal approximation.\n",
      "  warnings.warn(\"Sample size too small for normal approximation.\")\n",
      "/home/welton/DarkNet/.env/lib/python3.8/site-packages/scipy/stats/_morestats.py:3414: UserWarning: Exact p-value calculation does not work if there are zeros. Switching to normal approximation.\n",
      "  warnings.warn(\"Exact p-value calculation does not work if there are \"\n",
      "/home/welton/DarkNet/.env/lib/python3.8/site-packages/scipy/stats/_morestats.py:3428: UserWarning: Sample size too small for normal approximation.\n",
      "  warnings.warn(\"Sample size too small for normal approximation.\")\n",
      "/home/welton/DarkNet/.env/lib/python3.8/site-packages/scipy/stats/_morestats.py:3414: UserWarning: Exact p-value calculation does not work if there are zeros. Switching to normal approximation.\n",
      "  warnings.warn(\"Exact p-value calculation does not work if there are \"\n",
      "/home/welton/DarkNet/.env/lib/python3.8/site-packages/scipy/stats/_morestats.py:3428: UserWarning: Sample size too small for normal approximation.\n",
      "  warnings.warn(\"Sample size too small for normal approximation.\")\n",
      "/home/welton/DarkNet/.env/lib/python3.8/site-packages/scipy/stats/_morestats.py:3414: UserWarning: Exact p-value calculation does not work if there are zeros. Switching to normal approximation.\n",
      "  warnings.warn(\"Exact p-value calculation does not work if there are \"\n",
      "/home/welton/DarkNet/.env/lib/python3.8/site-packages/scipy/stats/_morestats.py:3428: UserWarning: Sample size too small for normal approximation.\n",
      "  warnings.warn(\"Sample size too small for normal approximation.\")\n"
     ]
    },
    {
     "name": "stdout",
     "output_type": "stream",
     "text": [
      "***** igcngru_features *****\n"
     ]
    },
    {
     "name": "stderr",
     "output_type": "stream",
     "text": [
      "/home/welton/DarkNet/.env/lib/python3.8/site-packages/scipy/stats/_morestats.py:3414: UserWarning: Exact p-value calculation does not work if there are zeros. Switching to normal approximation.\n",
      "  warnings.warn(\"Exact p-value calculation does not work if there are \"\n",
      "/home/welton/DarkNet/.env/lib/python3.8/site-packages/scipy/stats/_morestats.py:3428: UserWarning: Sample size too small for normal approximation.\n",
      "  warnings.warn(\"Sample size too small for normal approximation.\")\n",
      "/home/welton/DarkNet/.env/lib/python3.8/site-packages/scipy/stats/_morestats.py:3414: UserWarning: Exact p-value calculation does not work if there are zeros. Switching to normal approximation.\n",
      "  warnings.warn(\"Exact p-value calculation does not work if there are \"\n",
      "/home/welton/DarkNet/.env/lib/python3.8/site-packages/scipy/stats/_morestats.py:3428: UserWarning: Sample size too small for normal approximation.\n",
      "  warnings.warn(\"Sample size too small for normal approximation.\")\n",
      "/home/welton/DarkNet/.env/lib/python3.8/site-packages/scipy/stats/_morestats.py:3414: UserWarning: Exact p-value calculation does not work if there are zeros. Switching to normal approximation.\n",
      "  warnings.warn(\"Exact p-value calculation does not work if there are \"\n",
      "/home/welton/DarkNet/.env/lib/python3.8/site-packages/scipy/stats/_morestats.py:3428: UserWarning: Sample size too small for normal approximation.\n",
      "  warnings.warn(\"Sample size too small for normal approximation.\")\n",
      "/home/welton/DarkNet/.env/lib/python3.8/site-packages/scipy/stats/_morestats.py:3414: UserWarning: Exact p-value calculation does not work if there are zeros. Switching to normal approximation.\n",
      "  warnings.warn(\"Exact p-value calculation does not work if there are \"\n",
      "/home/welton/DarkNet/.env/lib/python3.8/site-packages/scipy/stats/_morestats.py:3428: UserWarning: Sample size too small for normal approximation.\n",
      "  warnings.warn(\"Sample size too small for normal approximation.\")\n",
      "/home/welton/DarkNet/.env/lib/python3.8/site-packages/scipy/stats/_morestats.py:3414: UserWarning: Exact p-value calculation does not work if there are zeros. Switching to normal approximation.\n",
      "  warnings.warn(\"Exact p-value calculation does not work if there are \"\n",
      "/home/welton/DarkNet/.env/lib/python3.8/site-packages/scipy/stats/_morestats.py:3428: UserWarning: Sample size too small for normal approximation.\n",
      "  warnings.warn(\"Sample size too small for normal approximation.\")\n",
      "/home/welton/DarkNet/.env/lib/python3.8/site-packages/scipy/stats/_morestats.py:3414: UserWarning: Exact p-value calculation does not work if there are zeros. Switching to normal approximation.\n",
      "  warnings.warn(\"Exact p-value calculation does not work if there are \"\n",
      "/home/welton/DarkNet/.env/lib/python3.8/site-packages/scipy/stats/_morestats.py:3428: UserWarning: Sample size too small for normal approximation.\n",
      "  warnings.warn(\"Sample size too small for normal approximation.\")\n"
     ]
    }
   ],
   "source": [
    "macros = {}\n",
    "paired_test_days = {}\n",
    "# For each strategy.\n",
    "for strat in target_strategies:\n",
    "    print('*' * 5, strat, '*' * 5)\n",
    "    macros[strat] = {}\n",
    "    paired_test_days[strat] = {}\n",
    "    # For each day.\n",
    "    for day in days:\n",
    "        macros[strat][day] = {}\n",
    "        strat_points, stacking_points = [], []\n",
    "        # For each fold.\n",
    "        for fold in np.arange(10):\n",
    "            file_path = f\"stacking_predictions/out/{k_n}/test/{strat}_{day}_fold0{fold}.csv\"\n",
    "            df = pd.read_csv(file_path)\n",
    "            _, macro_by_class = f1(df)\n",
    "            macros[strat][day][fold] = macro_by_class\n",
    "            strat_points.append(macro_by_class[label_to_idx[target_class]])\n",
    "            stacking_points.append(f1_score(stacking[day][fold]['y'],\n",
    "                                    stacking[day][fold][\"preds\"],\n",
    "                                    average=None,\n",
    "                                    labels=np.arange(len(cols)),\n",
    "                                    zero_division=0)[label_to_idx[target_class]])\n",
    "            \n",
    "        try:\n",
    "            res = stats.wilcoxon(stacking_points, strat_points, alternative='greater')\n",
    "        except:\n",
    "            res = [-1, -1]\n",
    "        paired_test_days[strat][day] = f\"{res[0]};{res[1]}\"\n",
    "        \n",
    "        \n",
    "\n",
    "        "
   ]
  },
  {
   "cell_type": "code",
   "execution_count": 119,
   "metadata": {},
   "outputs": [
    {
     "name": "stdout",
     "output_type": "stream",
     "text": [
      "idarkvec\n",
      "17.5;0.26354462843276905\n",
      "10.0;0.032799846073535935\n",
      "21.0;0.013428347753762199\n",
      "28.0;0.00877616296920843\n",
      "34.0;0.012176559331126819\n",
      "36.0;0.00575691403842271\n",
      "45.0;0.003736770770438521\n",
      "33.0;0.017845950058402206\n",
      "28.0;0.008980238763039383\n",
      "45.0;0.0037896409716948643\n",
      "45.0;0.0037896409716948643\n",
      "igcngru_features\n",
      "55.0;0.0009765625\n",
      "55.0;0.0009765625\n",
      "55.0;0.0009765625\n",
      "54.0;0.001953125\n",
      "51.0;0.0068359375\n",
      "28.0;0.008877961307018026\n",
      "31.0;0.03350388737713736\n",
      "15.0;0.172059248067656\n",
      "34.5;0.07720326555382324\n",
      "19.5;0.1741008397065631\n",
      "24.0;0.045484473987678874\n"
     ]
    }
   ],
   "source": [
    "for strat in target_strategies:\n",
    "    print(strat)\n",
    "    for day in days:\n",
    "        print(paired_test_days[strat][day])"
   ]
  },
  {
   "cell_type": "markdown",
   "metadata": {},
   "source": [
    "# Wilcoxon-Test over the whole points at once."
   ]
  },
  {
   "cell_type": "code",
   "execution_count": 120,
   "metadata": {},
   "outputs": [
    {
     "name": "stdout",
     "output_type": "stream",
     "text": [
      "SHADOWSERVER\tIDARKVEC\t4701.0\t3.505575950575009e-14\n",
      "SHADOWSERVER\tIGCNGRU_FEATURES\t4841.0\t7.098715339266108e-14\n"
     ]
    }
   ],
   "source": [
    "for strat in target_strategies:\n",
    "    stacking_ps = []\n",
    "    strats_ps = []\n",
    "    for day in days:\n",
    "        for fold in np.arange(10):\n",
    "            stacking_ps.append(stacking[day][fold]['classes'][label_to_idx[target_class]])\n",
    "            strats_ps.append(macros[strat][day][fold][label_to_idx[target_class]])\n",
    "    res = stats.wilcoxon(stacking_ps, strats_ps, alternative=\"greater\")\n",
    "    print(f\"{target_class.upper()}\\t{strat.upper()}\\t{res[0]}\\t{res[1]}\")"
   ]
  },
  {
   "cell_type": "code",
   "execution_count": 121,
   "metadata": {},
   "outputs": [],
   "source": [
    "a = [4,2,1,4,2,3,5,1,2,1]\n",
    "b = [3,3,4,5,5,1,8,5,4,4]"
   ]
  },
  {
   "cell_type": "code",
   "execution_count": 122,
   "metadata": {},
   "outputs": [
    {
     "data": {
      "text/plain": [
       "WilcoxonResult(statistic=6.5, pvalue=0.990234375)"
      ]
     },
     "execution_count": 122,
     "metadata": {},
     "output_type": "execute_result"
    }
   ],
   "source": [
    "stats.wilcoxon(a, b, alternative='greater')"
   ]
  },
  {
   "cell_type": "code",
   "execution_count": 123,
   "metadata": {},
   "outputs": [
    {
     "data": {
      "text/plain": [
       "WilcoxonResult(statistic=48.5, pvalue=0.0185546875)"
      ]
     },
     "execution_count": 123,
     "metadata": {},
     "output_type": "execute_result"
    }
   ],
   "source": [
    "stats.wilcoxon(b, a, alternative='greater')"
   ]
  },
  {
   "cell_type": "code",
   "execution_count": null,
   "metadata": {},
   "outputs": [],
   "source": []
  }
 ],
 "metadata": {
  "kernelspec": {
   "display_name": ".env",
   "language": "python",
   "name": "python3"
  },
  "language_info": {
   "codemirror_mode": {
    "name": "ipython",
    "version": 3
   },
   "file_extension": ".py",
   "mimetype": "text/x-python",
   "name": "python",
   "nbconvert_exporter": "python",
   "pygments_lexer": "ipython3",
   "version": "3.8.10"
  },
  "orig_nbformat": 4
 },
 "nbformat": 4,
 "nbformat_minor": 2
}
