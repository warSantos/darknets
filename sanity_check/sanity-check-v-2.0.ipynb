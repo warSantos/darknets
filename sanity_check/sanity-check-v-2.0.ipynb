{
 "cells": [
  {
   "cell_type": "markdown",
   "metadata": {},
   "source": [
    "# Computação da F1 com Wilcoxon-test"
   ]
  },
  {
   "cell_type": "code",
   "execution_count": 1,
   "metadata": {},
   "outputs": [],
   "source": [
    "import pickle\n",
    "import numpy as np\n",
    "import pandas as pd\n",
    "import scipy.stats as stats\n",
    "from glob import glob\n",
    "from sklearn.metrics import f1_score"
   ]
  },
  {
   "cell_type": "code",
   "execution_count": 2,
   "metadata": {},
   "outputs": [],
   "source": [
    "def load_pickle(pickle_path: str):\n",
    "\n",
    "    with open(pickle_path, 'rb') as fd:\n",
    "        return pickle.load(fd)"
   ]
  },
  {
   "cell_type": "code",
   "execution_count": 3,
   "metadata": {},
   "outputs": [],
   "source": [
    "strategies = [\n",
    "    \"igcngru_features\",\n",
    "    \"idarkvec\"\n",
    "]\n",
    "\n",
    "k_n = 'k3'"
   ]
  },
  {
   "cell_type": "code",
   "execution_count": 6,
   "metadata": {},
   "outputs": [],
   "source": [
    "df = pd.read_csv(\"../data/2022/input/stacking_predictions/out/k3/test/idarkvec_20221021_fold02.csv\")"
   ]
  },
  {
   "cell_type": "code",
   "execution_count": 7,
   "metadata": {},
   "outputs": [
    {
     "data": {
      "text/plain": [
       "Index(['Unnamed: 0', 'src_ip', 'censys', 'driftnet', 'internetcensus',\n",
       "       'intrinsec', 'ipip', 'mirai', 'onyphe', 'rapid7', 'securitytrails',\n",
       "       'shadowserver', 'shodan', 'u_mich', 'unk_bruteforcer', 'unk_exploiter',\n",
       "       'unk_spammer', 'unknown', 'y_true'],\n",
       "      dtype='object')"
      ]
     },
     "execution_count": 7,
     "metadata": {},
     "output_type": "execute_result"
    }
   ],
   "source": [
    "df.columns"
   ]
  },
  {
   "cell_type": "code",
   "execution_count": 8,
   "metadata": {},
   "outputs": [],
   "source": [
    "def f1(df: pd.DataFrame):\n",
    "    probs_cols = [\n",
    "        \"censys\",\n",
    "        \"driftnet\",\n",
    "        \"internetcensus\",\n",
    "        \"intrinsec\",\n",
    "        \"ipip\",\n",
    "        \"mirai\",\n",
    "        \"onyphe\",\n",
    "        \"rapid7\",\n",
    "        \"securitytrails\",\n",
    "        \"shadowserver\",\n",
    "        \"shodan\",\n",
    "        \"u_mich\",\n",
    "        \"unk_bruteforcer\",\n",
    "        \"unk_exploiter\",\n",
    "        \"unk_spammer\",\n",
    "        \"unknown\",\n",
    "    ]\n",
    "\n",
    "    label_to_idx = {l: idx for idx, l in enumerate(probs_cols)}\n",
    "\n",
    "    # Getting only probabilities.\n",
    "    probs = df.drop(columns=[\"y_true\"])[probs_cols].copy(deep=True)\n",
    "    # Getting labels.\n",
    "    labels = df.y_true.copy(deep=True)\n",
    "    # Building a dictionay of labels (strings) to int (class number).\n",
    "    # Converting labels (string) to int (class number).\n",
    "    y = [label_to_idx[l] for l in labels]\n",
    "    # Taking predctions out of probabilities.\n",
    "    preds = probs.values.argmax(axis=1)\n",
    "    # Computing metrics.\n",
    "    macro = f1_score(\n",
    "        y, preds, labels=np.arange(len(probs_cols)), average=\"macro\", zero_division=0\n",
    "    )\n",
    "    # Macro by class.\n",
    "    macro_by_class = f1_score(\n",
    "        y, preds, labels=np.arange(len(probs_cols)), average=None, zero_division=0\n",
    "    )\n",
    "    return macro, macro_by_class"
   ]
  },
  {
   "cell_type": "code",
   "execution_count": 9,
   "metadata": {},
   "outputs": [
    {
     "data": {
      "text/plain": [
       "['20221021',\n",
       " '20221022',\n",
       " '20221023',\n",
       " '20221024',\n",
       " '20221025',\n",
       " '20221026',\n",
       " '20221027',\n",
       " '20221028',\n",
       " '20221029',\n",
       " '20221030',\n",
       " '20221031']"
      ]
     },
     "execution_count": 9,
     "metadata": {},
     "output_type": "execute_result"
    }
   ],
   "source": [
    "days = sorted([ f.split('/')[-1].split('_')[-2] for f in glob(f\"../data/2022/input/stacking_predictions/out/{k_n}/test/idarkvec*_fold00.csv\") ])\n",
    "days"
   ]
  },
  {
   "cell_type": "code",
   "execution_count": 10,
   "metadata": {},
   "outputs": [],
   "source": [
    "pickle_path = f\"../data/2022/output/reports/stacking-v-0.4/idarkvec-igcngru_features/k3.pkl\"\n",
    "stacking = load_pickle(pickle_path)"
   ]
  },
  {
   "cell_type": "code",
   "execution_count": 11,
   "metadata": {},
   "outputs": [
    {
     "data": {
      "text/plain": [
       "dict_keys(['y', 'preds'])"
      ]
     },
     "execution_count": 11,
     "metadata": {},
     "output_type": "execute_result"
    }
   ],
   "source": [
    "stacking['20221021'][0].keys()"
   ]
  },
  {
   "cell_type": "markdown",
   "metadata": {},
   "source": [
    "### Computing Wilcoxon-Test by Day."
   ]
  },
  {
   "cell_type": "code",
   "execution_count": 12,
   "metadata": {},
   "outputs": [],
   "source": [
    "cols = [\n",
    "    \"censys\",\n",
    "    \"driftnet\",\n",
    "    \"internetcensus\",\n",
    "    \"intrinsec\",\n",
    "    \"ipip\",\n",
    "    \"mirai\",\n",
    "    \"onyphe\",\n",
    "    \"rapid7\",\n",
    "    \"securitytrails\",\n",
    "    \"shadowserver\",\n",
    "    \"shodan\",\n",
    "    \"u_mich\",\n",
    "    \"unk_bruteforcer\",\n",
    "    \"unk_exploiter\",\n",
    "    \"unk_spammer\",\n",
    "    \"unknown\",\n",
    "]\n",
    "\n",
    "label_to_idx = {col: idx for idx, col in enumerate(cols)}"
   ]
  },
  {
   "cell_type": "code",
   "execution_count": 13,
   "metadata": {},
   "outputs": [],
   "source": [
    "target_class = \"shadowserver\"\n",
    "target_strategies = [\"idarkvec\", \"igcngru_features\"]"
   ]
  },
  {
   "cell_type": "code",
   "execution_count": 15,
   "metadata": {},
   "outputs": [
    {
     "name": "stdout",
     "output_type": "stream",
     "text": [
      "***** idarkvec *****\n",
      "***** igcngru_features *****\n"
     ]
    }
   ],
   "source": [
    "macros = {}\n",
    "paired_test_days = {}\n",
    "# For each strategy.\n",
    "for strat in target_strategies:\n",
    "    print('*' * 5, strat, '*' * 5)\n",
    "    macros[strat] = {}\n",
    "    paired_test_days[strat] = {}\n",
    "    # For each day.\n",
    "    for day in days:\n",
    "        macros[strat][day] = {}\n",
    "        strat_points, stacking_points = [], []\n",
    "        # For each fold.\n",
    "        for fold in np.arange(10):\n",
    "            file_path = f\"../data/2022/input/stacking_predictions/out/{k_n}/test/{strat}_{day}_fold0{fold}.csv\"\n",
    "            df = pd.read_csv(file_path)\n",
    "            _, macro_by_class = f1(df)\n",
    "            macros[strat][day][fold] = macro_by_class\n",
    "            strat_points.append(macro_by_class[label_to_idx[target_class]])\n",
    "            stacking_points.append(f1_score(stacking[day][fold]['y'],\n",
    "                                    stacking[day][fold][\"preds\"],\n",
    "                                    average=None,\n",
    "                                    labels=np.arange(len(cols)),\n",
    "                                    zero_division=0)[label_to_idx[target_class]])\n",
    "            \n",
    "        try:\n",
    "            res = stats.wilcoxon(stacking_points, strat_points, alternative='greater')\n",
    "        except:\n",
    "            res = [-1, -1]\n",
    "        paired_test_days[strat][day] = f\"{res[0]};{res[1]}\"\n",
    "        \n",
    "        \n",
    "\n",
    "        "
   ]
  },
  {
   "cell_type": "code",
   "execution_count": 16,
   "metadata": {},
   "outputs": [
    {
     "name": "stdout",
     "output_type": "stream",
     "text": [
      "idarkvec\n",
      "0.0;1.0\n",
      "0.0;1.0\n",
      "0.0;1.0\n",
      "0.0;1.0\n",
      "0.0;1.0\n",
      "0.0;1.0\n",
      "0.0;1.0\n",
      "0.0;1.0\n",
      "0.0;1.0\n",
      "0.0;1.0\n",
      "0.0;1.0\n",
      "igcngru_features\n",
      "0.0;1.0\n",
      "0.0;1.0\n",
      "0.0;1.0\n",
      "0.0;1.0\n",
      "0.0;1.0\n",
      "0.0;1.0\n",
      "0.0;1.0\n",
      "0.0;1.0\n",
      "0.0;1.0\n",
      "0.0;1.0\n",
      "0.0;1.0\n"
     ]
    }
   ],
   "source": [
    "for strat in target_strategies:\n",
    "    print(strat)\n",
    "    for day in days:\n",
    "        print(paired_test_days[strat][day])"
   ]
  },
  {
   "cell_type": "markdown",
   "metadata": {},
   "source": [
    "# Wilcoxon-Test over the whole points at once."
   ]
  },
  {
   "cell_type": "code",
   "execution_count": 120,
   "metadata": {},
   "outputs": [
    {
     "name": "stdout",
     "output_type": "stream",
     "text": [
      "SHADOWSERVER\tIDARKVEC\t4701.0\t3.505575950575009e-14\n",
      "SHADOWSERVER\tIGCNGRU_FEATURES\t4841.0\t7.098715339266108e-14\n"
     ]
    }
   ],
   "source": [
    "for strat in target_strategies:\n",
    "    stacking_ps = []\n",
    "    strats_ps = []\n",
    "    for day in days:\n",
    "        for fold in np.arange(10):\n",
    "            stacking_ps.append(stacking[day][fold]['classes'][label_to_idx[target_class]])\n",
    "            strats_ps.append(macros[strat][day][fold][label_to_idx[target_class]])\n",
    "    res = stats.wilcoxon(stacking_ps, strats_ps, alternative=\"greater\")\n",
    "    print(f\"{target_class.upper()}\\t{strat.upper()}\\t{res[0]}\\t{res[1]}\")"
   ]
  },
  {
   "cell_type": "code",
   "execution_count": 121,
   "metadata": {},
   "outputs": [],
   "source": [
    "a = [4,2,1,4,2,3,5,1,2,1]\n",
    "b = [3,3,4,5,5,1,8,5,4,4]"
   ]
  },
  {
   "cell_type": "code",
   "execution_count": 122,
   "metadata": {},
   "outputs": [
    {
     "data": {
      "text/plain": [
       "WilcoxonResult(statistic=6.5, pvalue=0.990234375)"
      ]
     },
     "execution_count": 122,
     "metadata": {},
     "output_type": "execute_result"
    }
   ],
   "source": [
    "stats.wilcoxon(a, b, alternative='greater')"
   ]
  },
  {
   "cell_type": "code",
   "execution_count": 123,
   "metadata": {},
   "outputs": [
    {
     "data": {
      "text/plain": [
       "WilcoxonResult(statistic=48.5, pvalue=0.0185546875)"
      ]
     },
     "execution_count": 123,
     "metadata": {},
     "output_type": "execute_result"
    }
   ],
   "source": [
    "stats.wilcoxon(b, a, alternative='greater')"
   ]
  },
  {
   "cell_type": "code",
   "execution_count": null,
   "metadata": {},
   "outputs": [],
   "source": []
  }
 ],
 "metadata": {
  "kernelspec": {
   "display_name": ".env",
   "language": "python",
   "name": "python3"
  },
  "language_info": {
   "codemirror_mode": {
    "name": "ipython",
    "version": 3
   },
   "file_extension": ".py",
   "mimetype": "text/x-python",
   "name": "python",
   "nbconvert_exporter": "python",
   "pygments_lexer": "ipython3",
   "version": "3.8.10"
  },
  "orig_nbformat": 4
 },
 "nbformat": 4,
 "nbformat_minor": 2
}
