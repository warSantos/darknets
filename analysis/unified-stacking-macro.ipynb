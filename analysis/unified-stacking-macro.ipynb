{
 "cells": [
  {
   "cell_type": "code",
   "execution_count": 21,
   "metadata": {},
   "outputs": [],
   "source": [
    "import numpy as np\n",
    "import pandas as pd\n",
    "\n",
    "from glob import glob\n",
    "from sklearn.metrics import classification_report\n",
    "\n",
    "from sys import path\n",
    "path.append(\"../src\")\n",
    "\n",
    "from utils import load_pickle"
   ]
  },
  {
   "cell_type": "code",
   "execution_count": 4,
   "metadata": {},
   "outputs": [],
   "source": [
    "base_models = \"features-idarkvec-igcngru_features\"\n",
    "SOURCES = [\"darknet\", \"honeypot\", \"darknet-honeypot\"]"
   ]
  },
  {
   "cell_type": "code",
   "execution_count": 5,
   "metadata": {},
   "outputs": [],
   "source": [
    "p_dark = load_pickle(f\"../data/2022/output/darknet/{base_models}/report/k3.pkl\")"
   ]
  },
  {
   "cell_type": "code",
   "execution_count": 6,
   "metadata": {},
   "outputs": [
    {
     "data": {
      "text/plain": [
       "(dict_keys(['20221021', '20221022', '20221023', '20221024', '20221025', '20221026', '20221027', '20221028', '20221029', '20221030', '20221031']),\n",
       " dict_keys([0, 1, 2, 3, 4, 5, 6, 7, 8, 9]),\n",
       " dict_keys(['y', 'preds']))"
      ]
     },
     "execution_count": 6,
     "metadata": {},
     "output_type": "execute_result"
    }
   ],
   "source": [
    "p_dark.keys(), p_dark[\"20221021\"].keys(), p_dark[\"20221021\"][0].keys()"
   ]
  },
  {
   "cell_type": "code",
   "execution_count": 7,
   "metadata": {},
   "outputs": [
    {
     "data": {
      "text/plain": [
       "(129,)"
      ]
     },
     "execution_count": 7,
     "metadata": {},
     "output_type": "execute_result"
    }
   ],
   "source": [
    "p_dark[\"20221021\"][0]['y'].shape"
   ]
  },
  {
   "cell_type": "code",
   "execution_count": 22,
   "metadata": {},
   "outputs": [
    {
     "data": {
      "text/plain": [
       "['20221021',\n",
       " '20221022',\n",
       " '20221023',\n",
       " '20221024',\n",
       " '20221025',\n",
       " '20221026',\n",
       " '20221027',\n",
       " '20221028',\n",
       " '20221029',\n",
       " '20221030',\n",
       " '20221031']"
      ]
     },
     "execution_count": 22,
     "metadata": {},
     "output_type": "execute_result"
    }
   ],
   "source": [
    "days = sorted(\n",
    "    [\n",
    "        f.split(\"/\")[-1].split(\"_\")[-2]\n",
    "        for f in glob(\n",
    "            f\"../data/2022/input/stacking_predictions/out/k3/darknet/test/idarkvec*_fold00.csv\"\n",
    "        )\n",
    "    ]\n",
    ")\n",
    "days"
   ]
  },
  {
   "cell_type": "code",
   "execution_count": 43,
   "metadata": {},
   "outputs": [],
   "source": [
    "f1s = []\n",
    "for day in days:\n",
    "    y, preds = [], []\n",
    "    for fold in np.arange(10):\n",
    "        ys, ps = [], []\n",
    "        for source in SOURCES:\n",
    "            data = load_pickle(f\"../data/2022/output/{source}/{base_models}/report/k3.pkl\")\n",
    "            ys.append(data[\"20221021\"][fold]['y'])\n",
    "            ps.append(data[\"20221021\"][fold][\"preds\"])\n",
    "        y.append(np.hstack(ys))\n",
    "        preds.append(np.hstack(ps))\n",
    "\n",
    "    y = np.hstack(y)\n",
    "    preds = np.hstack(preds)\n",
    "    report = classification_report(y, preds, labels=np.unique(y), output_dict=True, zero_division=0, digits=4)\n",
    "    df = pd.DataFrame(report).T.sort_index()[\"f1-score\"]\n",
    "    f1s.append(df.values)"
   ]
  },
  {
   "cell_type": "code",
   "execution_count": 44,
   "metadata": {},
   "outputs": [
    {
     "data": {
      "text/plain": [
       "array([0.97297297, 1.        , 0.98447894, 0.85714286, 0.35714286,\n",
       "       0.88712629, 0.98059952, 0.99443052, 0.99065421, 1.        ,\n",
       "       0.9982669 , 0.73913043, 0.88888889, 0.94434251, 0.83495146,\n",
       "       0.85736555, 0.97942509])"
      ]
     },
     "execution_count": 44,
     "metadata": {},
     "output_type": "execute_result"
    }
   ],
   "source": [
    "m = np.mean(np.vstack(f1s), axis=0)\n",
    "m"
   ]
  },
  {
   "cell_type": "code",
   "execution_count": 49,
   "metadata": {},
   "outputs": [
    {
     "data": {
      "text/html": [
       "<div>\n",
       "<style scoped>\n",
       "    .dataframe tbody tr th:only-of-type {\n",
       "        vertical-align: middle;\n",
       "    }\n",
       "\n",
       "    .dataframe tbody tr th {\n",
       "        vertical-align: top;\n",
       "    }\n",
       "\n",
       "    .dataframe thead th {\n",
       "        text-align: right;\n",
       "    }\n",
       "</style>\n",
       "<table border=\"1\" class=\"dataframe\">\n",
       "  <thead>\n",
       "    <tr style=\"text-align: right;\">\n",
       "      <th></th>\n",
       "      <th>f1</th>\n",
       "    </tr>\n",
       "    <tr>\n",
       "      <th>index</th>\n",
       "      <th></th>\n",
       "    </tr>\n",
       "  </thead>\n",
       "  <tbody>\n",
       "    <tr>\n",
       "      <th>censys</th>\n",
       "      <td>0.97</td>\n",
       "    </tr>\n",
       "    <tr>\n",
       "      <th>driftnet</th>\n",
       "      <td>1.00</td>\n",
       "    </tr>\n",
       "    <tr>\n",
       "      <th>internetcensus</th>\n",
       "      <td>0.98</td>\n",
       "    </tr>\n",
       "    <tr>\n",
       "      <th>intrinsec</th>\n",
       "      <td>0.85</td>\n",
       "    </tr>\n",
       "    <tr>\n",
       "      <th>ipip</th>\n",
       "      <td>0.35</td>\n",
       "    </tr>\n",
       "    <tr>\n",
       "      <th>macro avg</th>\n",
       "      <td>0.88</td>\n",
       "    </tr>\n",
       "    <tr>\n",
       "      <th>micro avg</th>\n",
       "      <td>0.98</td>\n",
       "    </tr>\n",
       "    <tr>\n",
       "      <th>mirai</th>\n",
       "      <td>0.99</td>\n",
       "    </tr>\n",
       "    <tr>\n",
       "      <th>onyphe</th>\n",
       "      <td>0.99</td>\n",
       "    </tr>\n",
       "    <tr>\n",
       "      <th>securitytrails</th>\n",
       "      <td>1.00</td>\n",
       "    </tr>\n",
       "    <tr>\n",
       "      <th>shadowserver</th>\n",
       "      <td>0.99</td>\n",
       "    </tr>\n",
       "    <tr>\n",
       "      <th>shodan</th>\n",
       "      <td>0.73</td>\n",
       "    </tr>\n",
       "    <tr>\n",
       "      <th>u_mich</th>\n",
       "      <td>0.88</td>\n",
       "    </tr>\n",
       "    <tr>\n",
       "      <th>unk_bruteforcer</th>\n",
       "      <td>0.94</td>\n",
       "    </tr>\n",
       "    <tr>\n",
       "      <th>unk_exploiter</th>\n",
       "      <td>0.83</td>\n",
       "    </tr>\n",
       "    <tr>\n",
       "      <th>unk_spammer</th>\n",
       "      <td>0.85</td>\n",
       "    </tr>\n",
       "    <tr>\n",
       "      <th>weighted avg</th>\n",
       "      <td>0.97</td>\n",
       "    </tr>\n",
       "  </tbody>\n",
       "</table>\n",
       "</div>"
      ],
      "text/plain": [
       "                   f1\n",
       "index                \n",
       "censys           0.97\n",
       "driftnet         1.00\n",
       "internetcensus   0.98\n",
       "intrinsec        0.85\n",
       "ipip             0.35\n",
       "macro avg        0.88\n",
       "micro avg        0.98\n",
       "mirai            0.99\n",
       "onyphe           0.99\n",
       "securitytrails   1.00\n",
       "shadowserver     0.99\n",
       "shodan           0.73\n",
       "u_mich           0.88\n",
       "unk_bruteforcer  0.94\n",
       "unk_exploiter    0.83\n",
       "unk_spammer      0.85\n",
       "weighted avg     0.97"
      ]
     },
     "execution_count": 49,
     "metadata": {},
     "output_type": "execute_result"
    }
   ],
   "source": [
    "def truncate(value):\n",
    "    return np.trunc(value * 100) / 100\n",
    "\n",
    "pd.DataFrame({\"index\": df.index, \"f1\": m}).set_index([\"index\"]).apply(lambda t: truncate(t))"
   ]
  },
  {
   "cell_type": "code",
   "execution_count": null,
   "metadata": {},
   "outputs": [],
   "source": []
  }
 ],
 "metadata": {
  "kernelspec": {
   "display_name": ".env",
   "language": "python",
   "name": "python3"
  },
  "language_info": {
   "codemirror_mode": {
    "name": "ipython",
    "version": 3
   },
   "file_extension": ".py",
   "mimetype": "text/x-python",
   "name": "python",
   "nbconvert_exporter": "python",
   "pygments_lexer": "ipython3",
   "version": "3.8.10"
  }
 },
 "nbformat": 4,
 "nbformat_minor": 2
}
