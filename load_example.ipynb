{
 "cells": [
  {
   "cell_type": "code",
   "execution_count": 40,
   "metadata": {},
   "outputs": [],
   "source": [
    "import pickle\n",
    "import numpy as np\n",
    "from itertools import product"
   ]
  },
  {
   "cell_type": "markdown",
   "metadata": {},
   "source": [
    "# Dados com as probabilidades do stacking para o caso 1 (interseção) fold 1.\n",
    "\n",
    "### Utiliza-se o caso 1 fold 1 como exemplo, pois ele tem instâncias onde os modelos erram e o stacking acerta. Alguns folds não existem estas instâncias."
   ]
  },
  {
   "cell_type": "code",
   "execution_count": 34,
   "metadata": {},
   "outputs": [],
   "source": [
    "data = np.load(\"logs/stacking_data/1/1/data.npz\", allow_pickle=True)"
   ]
  },
  {
   "cell_type": "code",
   "execution_count": 23,
   "metadata": {},
   "outputs": [
    {
     "data": {
      "text/plain": [
       "(['X_train', 'X_test', 'y_train', 'y_test', 'probas'],\n",
       " (6783, 96),\n",
       " (695, 96),\n",
       " (6783,),\n",
       " (695,))"
      ]
     },
     "execution_count": 23,
     "metadata": {},
     "output_type": "execute_result"
    }
   ],
   "source": [
    "list(data.keys()), data[\"X_train\"].shape, data[\"X_test\"].shape, data[\"y_train\"].shape, data[\"y_test\"].shape"
   ]
  },
  {
   "cell_type": "markdown",
   "metadata": {},
   "source": [
    "# Todas as classes da base.\n",
    "\n",
    "### Apesar de que para alguns dias algumas classes estão ausentes, as probabilidades geradas pelo Luca possuem todas as classes, sendo zero para as classes ausentes em todas as instâncias."
   ]
  },
  {
   "cell_type": "code",
   "execution_count": 41,
   "metadata": {},
   "outputs": [],
   "source": [
    "probs_cols = [\n",
    "    \"censys\",\n",
    "    \"driftnet\",\n",
    "    \"internetcensus\",\n",
    "    \"intrinsec\",\n",
    "    \"ipip\",\n",
    "    \"mirai\",\n",
    "    \"onyphe\",\n",
    "    \"rapid7\",\n",
    "    \"securitytrails\",\n",
    "    \"shadowserver\",\n",
    "    \"shodan\",\n",
    "    \"u_mich\",\n",
    "    \"unk_bruteforcer\",\n",
    "    \"unk_exploiter\",\n",
    "    \"unk_spammer\",\n",
    "    \"unknown\",\n",
    "]\n",
    "probs_cols.sort()"
   ]
  },
  {
   "cell_type": "markdown",
   "metadata": {},
   "source": [
    "# Predições onde o stacking acertou e os modelos erraram."
   ]
  },
  {
   "cell_type": "code",
   "execution_count": 24,
   "metadata": {},
   "outputs": [],
   "source": [
    "with open(\"logs/filtered_preds.pkl\", \"rb\") as fd:\n",
    "    filtered = pickle.load(fd)"
   ]
  },
  {
   "cell_type": "code",
   "execution_count": 25,
   "metadata": {},
   "outputs": [
    {
     "data": {
      "text/plain": [
       "(dict_keys([1, 2, 3, 4, 5]),\n",
       " dict_keys([0, 1, 2, 3, 4, 5, 6, 7, 8, 9]),\n",
       " dict_keys(['X', 'y', 'idxs', 'stacking_probas', 'columns_labels', 'model']))"
      ]
     },
     "execution_count": 25,
     "metadata": {},
     "output_type": "execute_result"
    }
   ],
   "source": [
    "filtered.keys(), filtered[1].keys(), filtered[1][1].keys()"
   ]
  },
  {
   "cell_type": "markdown",
   "metadata": {},
   "source": [
    "## Acessando os dados do fold 0 do caso 1 (interseção)"
   ]
  },
  {
   "cell_type": "markdown",
   "metadata": {},
   "source": [
    "IDs onde o stacking acertou e os modelos não."
   ]
  },
  {
   "cell_type": "code",
   "execution_count": 26,
   "metadata": {},
   "outputs": [
    {
     "data": {
      "text/plain": [
       "array([504, 505])"
      ]
     },
     "execution_count": 26,
     "metadata": {},
     "output_type": "execute_result"
    }
   ],
   "source": [
    "filtered[1][1][\"idxs\"]"
   ]
  },
  {
   "cell_type": "markdown",
   "metadata": {},
   "source": [
    "Probabilidades do teste do stacking. Igual ao que está no X_test da variável data no início do notebook."
   ]
  },
  {
   "cell_type": "code",
   "execution_count": 21,
   "metadata": {},
   "outputs": [
    {
     "data": {
      "text/plain": [
       "(695, 16)"
      ]
     },
     "execution_count": 21,
     "metadata": {},
     "output_type": "execute_result"
    }
   ],
   "source": [
    "filtered[1][1][\"stacking_probas\"].shape"
   ]
  },
  {
   "cell_type": "markdown",
   "metadata": {},
   "source": [
    "Probabilidades dos modelos (Equivalente ao X_test ou stacking_probas indexados por filtered[1][1][\"idxs\"])"
   ]
  },
  {
   "cell_type": "code",
   "execution_count": 28,
   "metadata": {},
   "outputs": [
    {
     "data": {
      "text/plain": [
       "(2, 96)"
      ]
     },
     "execution_count": 28,
     "metadata": {},
     "output_type": "execute_result"
    }
   ],
   "source": [
    "filtered[1][1][\"X\"].shape"
   ]
  },
  {
   "cell_type": "markdown",
   "metadata": {},
   "source": [
    "Label das instâncias (Equivalente ao y_test ou stacking_probas indexados por filtered[1][1][\"idxs\"])"
   ]
  },
  {
   "cell_type": "code",
   "execution_count": 30,
   "metadata": {},
   "outputs": [
    {
     "data": {
      "text/plain": [
       "(2,)"
      ]
     },
     "execution_count": 30,
     "metadata": {},
     "output_type": "execute_result"
    }
   ],
   "source": [
    "filtered[1][1][\"y\"].shape"
   ]
  },
  {
   "cell_type": "markdown",
   "metadata": {},
   "source": [
    "Meta-modelo do stacking (para esse dia todas as classes estavam presentes. Pode ser que para alguns dias não estejam)"
   ]
  },
  {
   "cell_type": "code",
   "execution_count": 33,
   "metadata": {},
   "outputs": [
    {
     "data": {
      "text/plain": [
       "(LogisticRegression(max_iter=500, n_jobs=-1),\n",
       " array(['censys', 'driftnet', 'internetcensus', 'intrinsec', 'ipip',\n",
       "        'mirai', 'onyphe', 'rapid7', 'securitytrails', 'shadowserver',\n",
       "        'shodan', 'u_mich', 'unk_bruteforcer', 'unk_exploiter',\n",
       "        'unk_spammer', 'unknown'], dtype=object),\n",
       " (16,))"
      ]
     },
     "execution_count": 33,
     "metadata": {},
     "output_type": "execute_result"
    }
   ],
   "source": [
    "filtered[1][1][\"model\"], filtered[1][1][\"model\"].classes_, filtered[1][1][\"model\"].classes_.shape"
   ]
  },
  {
   "cell_type": "markdown",
   "metadata": {},
   "source": [
    "Labels de cada dimensão do vetor de probabilidades (probabilidades dos modelos base concatnadas) utilizados para inserir no stacking.\n",
    "\n",
    "Os labels são organizados da seguinte forma: fonte-modelo-classe."
   ]
  },
  {
   "cell_type": "code",
   "execution_count": 35,
   "metadata": {},
   "outputs": [
    {
     "data": {
      "text/plain": [
       "['darknet-features-censys',\n",
       " 'darknet-features-driftnet',\n",
       " 'darknet-features-internetcensus',\n",
       " 'darknet-features-intrinsec',\n",
       " 'darknet-features-ipip',\n",
       " 'darknet-features-mirai',\n",
       " 'darknet-features-onyphe',\n",
       " 'darknet-features-rapid7',\n",
       " 'darknet-features-securitytrails',\n",
       " 'darknet-features-shadowserver',\n",
       " 'darknet-features-shodan',\n",
       " 'darknet-features-u_mich',\n",
       " 'darknet-features-unk_bruteforcer',\n",
       " 'darknet-features-unk_exploiter',\n",
       " 'darknet-features-unk_spammer',\n",
       " 'darknet-features-unknown',\n",
       " 'darknet-idarkvec-censys',\n",
       " 'darknet-idarkvec-driftnet',\n",
       " 'darknet-idarkvec-internetcensus',\n",
       " 'darknet-idarkvec-intrinsec',\n",
       " 'darknet-idarkvec-ipip',\n",
       " 'darknet-idarkvec-mirai',\n",
       " 'darknet-idarkvec-onyphe',\n",
       " 'darknet-idarkvec-rapid7',\n",
       " 'darknet-idarkvec-securitytrails',\n",
       " 'darknet-idarkvec-shadowserver',\n",
       " 'darknet-idarkvec-shodan',\n",
       " 'darknet-idarkvec-u_mich',\n",
       " 'darknet-idarkvec-unk_bruteforcer',\n",
       " 'darknet-idarkvec-unk_exploiter',\n",
       " 'darknet-idarkvec-unk_spammer',\n",
       " 'darknet-idarkvec-unknown',\n",
       " 'darknet-igcngru_features-censys',\n",
       " 'darknet-igcngru_features-driftnet',\n",
       " 'darknet-igcngru_features-internetcensus',\n",
       " 'darknet-igcngru_features-intrinsec',\n",
       " 'darknet-igcngru_features-ipip',\n",
       " 'darknet-igcngru_features-mirai',\n",
       " 'darknet-igcngru_features-onyphe',\n",
       " 'darknet-igcngru_features-rapid7',\n",
       " 'darknet-igcngru_features-securitytrails',\n",
       " 'darknet-igcngru_features-shadowserver',\n",
       " 'darknet-igcngru_features-shodan',\n",
       " 'darknet-igcngru_features-u_mich',\n",
       " 'darknet-igcngru_features-unk_bruteforcer',\n",
       " 'darknet-igcngru_features-unk_exploiter',\n",
       " 'darknet-igcngru_features-unk_spammer',\n",
       " 'darknet-igcngru_features-unknown',\n",
       " 'honeypot-features-censys',\n",
       " 'honeypot-features-driftnet',\n",
       " 'honeypot-features-internetcensus',\n",
       " 'honeypot-features-intrinsec',\n",
       " 'honeypot-features-ipip',\n",
       " 'honeypot-features-mirai',\n",
       " 'honeypot-features-onyphe',\n",
       " 'honeypot-features-rapid7',\n",
       " 'honeypot-features-securitytrails',\n",
       " 'honeypot-features-shadowserver',\n",
       " 'honeypot-features-shodan',\n",
       " 'honeypot-features-u_mich',\n",
       " 'honeypot-features-unk_bruteforcer',\n",
       " 'honeypot-features-unk_exploiter',\n",
       " 'honeypot-features-unk_spammer',\n",
       " 'honeypot-features-unknown',\n",
       " 'honeypot-idarkvec-censys',\n",
       " 'honeypot-idarkvec-driftnet',\n",
       " 'honeypot-idarkvec-internetcensus',\n",
       " 'honeypot-idarkvec-intrinsec',\n",
       " 'honeypot-idarkvec-ipip',\n",
       " 'honeypot-idarkvec-mirai',\n",
       " 'honeypot-idarkvec-onyphe',\n",
       " 'honeypot-idarkvec-rapid7',\n",
       " 'honeypot-idarkvec-securitytrails',\n",
       " 'honeypot-idarkvec-shadowserver',\n",
       " 'honeypot-idarkvec-shodan',\n",
       " 'honeypot-idarkvec-u_mich',\n",
       " 'honeypot-idarkvec-unk_bruteforcer',\n",
       " 'honeypot-idarkvec-unk_exploiter',\n",
       " 'honeypot-idarkvec-unk_spammer',\n",
       " 'honeypot-idarkvec-unknown',\n",
       " 'honeypot-igcngru_features-censys',\n",
       " 'honeypot-igcngru_features-driftnet',\n",
       " 'honeypot-igcngru_features-internetcensus',\n",
       " 'honeypot-igcngru_features-intrinsec',\n",
       " 'honeypot-igcngru_features-ipip',\n",
       " 'honeypot-igcngru_features-mirai',\n",
       " 'honeypot-igcngru_features-onyphe',\n",
       " 'honeypot-igcngru_features-rapid7',\n",
       " 'honeypot-igcngru_features-securitytrails',\n",
       " 'honeypot-igcngru_features-shadowserver',\n",
       " 'honeypot-igcngru_features-shodan',\n",
       " 'honeypot-igcngru_features-u_mich',\n",
       " 'honeypot-igcngru_features-unk_bruteforcer',\n",
       " 'honeypot-igcngru_features-unk_exploiter',\n",
       " 'honeypot-igcngru_features-unk_spammer',\n",
       " 'honeypot-igcngru_features-unknown']"
      ]
     },
     "execution_count": 35,
     "metadata": {},
     "output_type": "execute_result"
    }
   ],
   "source": [
    "filtered[1][1][\"columns_labels\"]"
   ]
  },
  {
   "cell_type": "markdown",
   "metadata": {},
   "source": [
    "No caso 1 (interseção) são duas fontes e três modelos. Total de dimensões do vetor de probabilidade: 2 * 3 * 16 = 96. Quando for uma única fonte o número de dimensões será a metada.\n",
    "\n",
    "As probabilidades foram carregadas em ordem alfabética fonte - modelo."
   ]
  },
  {
   "cell_type": "code",
   "execution_count": 39,
   "metadata": {},
   "outputs": [
    {
     "data": {
      "text/plain": [
       "[('darknet', 'features'),\n",
       " ('darknet', 'idarkvec'),\n",
       " ('darknet', 'igcngru_features'),\n",
       " ('honeypot', 'features'),\n",
       " ('honeypot', 'idarkvec'),\n",
       " ('honeypot', 'igcngru_features')]"
      ]
     },
     "execution_count": 39,
     "metadata": {},
     "output_type": "execute_result"
    }
   ],
   "source": [
    "list(product([\"darknet\", \"honeypot\"], [\"features\", \"idarkvec\", \"igcngru_features\"]))"
   ]
  },
  {
   "cell_type": "markdown",
   "metadata": {},
   "source": [
    "Extraindo a probababilidade de cada modelo para a primeira instância onde o stacking acertou e os modelos erraram do caso 1 fold 1.\n",
    "\n",
    "### IDX 504"
   ]
  },
  {
   "cell_type": "code",
   "execution_count": 44,
   "metadata": {},
   "outputs": [],
   "source": [
    "n_classes = len(probs_cols)"
   ]
  },
  {
   "cell_type": "code",
   "execution_count": 50,
   "metadata": {},
   "outputs": [],
   "source": [
    "models_probs = {}\n",
    "for count, (source, model_name) in enumerate(product([\"darknet\", \"honeypot\"], [\"features\", \"idarkvec\", \"igcngru_features\"])):\n",
    "    models_probs[f\"{source}-{model_name}\"] = data[\"X_test\"][504][count * n_classes : (count + 1) * n_classes]\n"
   ]
  },
  {
   "cell_type": "markdown",
   "metadata": {},
   "source": [
    "### Rápido teste de sanidade."
   ]
  },
  {
   "cell_type": "code",
   "execution_count": 71,
   "metadata": {},
   "outputs": [
    {
     "name": "stdout",
     "output_type": "stream",
     "text": [
      "Modelo: darknet-features Predição:  unknown\n",
      "Modelo: darknet-idarkvec Predição:  unknown\n",
      "Modelo: darknet-igcngru_features Predição:  unknown\n",
      "Modelo: honeypot-features Predição:  unknown\n",
      "Modelo: honeypot-idarkvec Predição:  unknown\n",
      "Modelo: honeypot-igcngru_features Predição:  unknown\n"
     ]
    },
    {
     "data": {
      "text/plain": [
       "(504, 'Predição stacking: ', 'unk_spammer', 'Label: ', 'unk_spammer')"
      ]
     },
     "execution_count": 71,
     "metadata": {},
     "output_type": "execute_result"
    }
   ],
   "source": [
    "TEST_ID = 504\n",
    "for key in models_probs:\n",
    "    print(f\"Modelo: {key}\",\n",
    "        \"Predição: \", probs_cols[models_probs[key].argmax()])\n",
    "\n",
    "filtered[1][1][\"idxs\"][0], \"Predição stacking: \", filtered[1][1][\"model\"].classes_[\n",
    "    filtered[1][1][\"stacking_probas\"][TEST_ID].argmax()\n",
    "], \"Label: \", data[\"y_test\"][TEST_ID]"
   ]
  },
  {
   "cell_type": "code",
   "execution_count": null,
   "metadata": {},
   "outputs": [],
   "source": []
  }
 ],
 "metadata": {
  "kernelspec": {
   "display_name": ".env",
   "language": "python",
   "name": "python3"
  },
  "language_info": {
   "codemirror_mode": {
    "name": "ipython",
    "version": 3
   },
   "file_extension": ".py",
   "mimetype": "text/x-python",
   "name": "python",
   "nbconvert_exporter": "python",
   "pygments_lexer": "ipython3",
   "version": "3.8.10"
  }
 },
 "nbformat": 4,
 "nbformat_minor": 2
}
