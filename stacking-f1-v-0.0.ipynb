{
 "cells": [
  {
   "cell_type": "code",
   "execution_count": 1,
   "metadata": {},
   "outputs": [],
   "source": [
    "import pickle\n",
    "import numpy as np\n",
    "from sklearn.metrics import f1_score"
   ]
  },
  {
   "cell_type": "code",
   "execution_count": 2,
   "metadata": {},
   "outputs": [],
   "source": [
    "k_n = 'k3'"
   ]
  },
  {
   "cell_type": "code",
   "execution_count": 3,
   "metadata": {},
   "outputs": [],
   "source": [
    "with open(f\"reports/{k_n}.pkl\", 'rb') as fd:\n",
    "    scores = pickle.load(fd)"
   ]
  },
  {
   "cell_type": "code",
   "execution_count": 26,
   "metadata": {},
   "outputs": [],
   "source": [
    "preds, y = [], []\n",
    "for day in scores:\n",
    "    for fold in scores[day]:\n",
    "        preds.append(scores[day][fold][\"preds\"])\n",
    "        y.append(scores[day][fold][\"y\"])\n",
    "\n",
    "preds = np.hstack(preds)\n",
    "y = np.hstack(y)\n",
    "    "
   ]
  },
  {
   "cell_type": "code",
   "execution_count": 27,
   "metadata": {},
   "outputs": [],
   "source": [
    "x = np.around(f1_score(y, preds, average=None), decimals=2).tolist()"
   ]
  },
  {
   "cell_type": "code",
   "execution_count": 28,
   "metadata": {},
   "outputs": [
    {
     "name": "stdout",
     "output_type": "stream",
     "text": [
      "0.98\n",
      "0.66\n",
      "0.51\n",
      "0.99\n",
      "1.0\n",
      "1.0\n",
      "0.94\n",
      "1.0\n",
      "0.99\n",
      "0.97\n",
      "0.84\n",
      "0.16\n",
      "1.0\n",
      "0.79\n",
      "0.0\n"
     ]
    }
   ],
   "source": [
    "for i in x:\n",
    "    print(i)"
   ]
  },
  {
   "cell_type": "code",
   "execution_count": 29,
   "metadata": {},
   "outputs": [
    {
     "data": {
      "text/plain": [
       "array([0.98230853, 0.65615954, 0.51104231, 0.98859804, 0.99945897,\n",
       "       0.99785775, 0.93846154, 0.99920255, 0.98786581, 0.96781609,\n",
       "       0.84430177, 0.15942029, 1.        , 0.79487179, 0.        ])"
      ]
     },
     "execution_count": 29,
     "metadata": {},
     "output_type": "execute_result"
    }
   ],
   "source": [
    "f1_score(y, preds, average=None)"
   ]
  }
 ],
 "metadata": {
  "kernelspec": {
   "display_name": ".env",
   "language": "python",
   "name": "python3"
  },
  "language_info": {
   "codemirror_mode": {
    "name": "ipython",
    "version": 3
   },
   "file_extension": ".py",
   "mimetype": "text/x-python",
   "name": "python",
   "nbconvert_exporter": "python",
   "pygments_lexer": "ipython3",
   "version": "3.8.10"
  }
 },
 "nbformat": 4,
 "nbformat_minor": 2
}
